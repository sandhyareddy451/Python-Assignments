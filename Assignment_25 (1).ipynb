{
 "cells": [
  {
   "cell_type": "markdown",
   "id": "f40a34bc",
   "metadata": {},
   "source": [
    "## 1) . What is the difference between enclosing a list comprehension in square brackets and parentheses?\n",
    "\n",
    "\n",
    "\n",
    "\n"
   ]
  },
  {
   "cell_type": "code",
   "execution_count": null,
   "id": "2f452c95",
   "metadata": {},
   "outputs": [],
   "source": [
    "### Square brackets are used represent for lists. while parentheses are used to represe for tuples.\n",
    "\n",
    "example:\n",
    "\n",
    "list=[1,2,3,5,7,8]-----> lists are mutable, we can add elements remove elements,if you want\n",
    "\n",
    "tuple=(1,2,34,5,6,7,8)---->tuple are immutable, we can add elements remove elements,if you want"
   ]
  },
  {
   "cell_type": "markdown",
   "id": "3975a410",
   "metadata": {},
   "source": [
    "## 2) What is the relationship between generators and iterators?"
   ]
  },
  {
   "cell_type": "code",
   "execution_count": null,
   "id": "219ad762",
   "metadata": {},
   "outputs": [],
   "source": [
    "1. Iterators are the objects that use the next() method to get the next value of the sequence.\n",
    "2. A generator is a function that produces or yields a sequence of values using a yield statement.\n",
    "3. Classes are used to Implement the iterators. \n",
    "4. Functions are used to implement the generator."
   ]
  },
  {
   "cell_type": "markdown",
   "id": "73509e82",
   "metadata": {},
   "source": [
    "## 3) What are the signs that a function is a generator function?"
   ]
  },
  {
   "cell_type": "code",
   "execution_count": null,
   "id": "878ea334",
   "metadata": {},
   "outputs": [],
   "source": [
    "1. If a function contains at least one yield statement, it becomes a generator function.\n",
    "Both yield and return will return some value from a function."
   ]
  },
  {
   "cell_type": "markdown",
   "id": "431b47fe",
   "metadata": {},
   "source": [
    "## 4) What is the purpose of a yield statement?"
   ]
  },
  {
   "cell_type": "code",
   "execution_count": null,
   "id": "ff6fb097",
   "metadata": {},
   "outputs": [],
   "source": [
    "The yield statement returns a generator object to the one who calls the function which contains yield,\n",
    "instead of simply returning a value.\n",
    "2. yield is a keyword that is used like return, except the function will return a generator.\n",
    "3. The yield keyword in Python controls the flow of a generator function. This is similar to a return statement used for returning values in Python"
   ]
  },
  {
   "cell_type": "markdown",
   "id": "c79dcd94",
   "metadata": {},
   "source": [
    "## 5) What is the relationship between map calls and list comprehensions? Make a comparison and contrast between the two."
   ]
  },
  {
   "cell_type": "code",
   "execution_count": null,
   "id": "5ac29a44",
   "metadata": {},
   "outputs": [],
   "source": [
    "1. List comprehension returns a list, whereas the map function returns an object of Iterable.\n",
    "2. List comprehension execution is faster than that of map function when the formula expression is huge and complex.\n",
    "3. Map function is faster than list comprehension when the formula is already defined as a function earlier."
   ]
  },
  {
   "cell_type": "code",
   "execution_count": null,
   "id": "40f473fe",
   "metadata": {},
   "outputs": [],
   "source": []
  },
  {
   "cell_type": "code",
   "execution_count": null,
   "id": "f658bb95",
   "metadata": {},
   "outputs": [],
   "source": []
  },
  {
   "cell_type": "code",
   "execution_count": null,
   "id": "d4646e1e",
   "metadata": {},
   "outputs": [],
   "source": []
  },
  {
   "cell_type": "code",
   "execution_count": null,
   "id": "eb1bc0fd",
   "metadata": {},
   "outputs": [],
   "source": []
  },
  {
   "cell_type": "code",
   "execution_count": null,
   "id": "3dc929af",
   "metadata": {},
   "outputs": [],
   "source": []
  },
  {
   "cell_type": "code",
   "execution_count": null,
   "id": "a974eda7",
   "metadata": {},
   "outputs": [],
   "source": []
  },
  {
   "cell_type": "code",
   "execution_count": null,
   "id": "126aa8ab",
   "metadata": {},
   "outputs": [],
   "source": []
  },
  {
   "cell_type": "code",
   "execution_count": null,
   "id": "9814a1c1",
   "metadata": {},
   "outputs": [],
   "source": []
  },
  {
   "cell_type": "code",
   "execution_count": null,
   "id": "3f27d3cd",
   "metadata": {},
   "outputs": [],
   "source": []
  },
  {
   "cell_type": "code",
   "execution_count": null,
   "id": "1968cea7",
   "metadata": {},
   "outputs": [],
   "source": []
  },
  {
   "cell_type": "code",
   "execution_count": null,
   "id": "1aff943e",
   "metadata": {},
   "outputs": [],
   "source": []
  },
  {
   "cell_type": "code",
   "execution_count": null,
   "id": "cc20b3b2",
   "metadata": {},
   "outputs": [],
   "source": []
  },
  {
   "cell_type": "code",
   "execution_count": null,
   "id": "3dd1ba94",
   "metadata": {},
   "outputs": [],
   "source": []
  },
  {
   "cell_type": "code",
   "execution_count": null,
   "id": "49be067d",
   "metadata": {},
   "outputs": [],
   "source": []
  },
  {
   "cell_type": "code",
   "execution_count": null,
   "id": "df56cbc3",
   "metadata": {},
   "outputs": [],
   "source": []
  },
  {
   "cell_type": "code",
   "execution_count": null,
   "id": "17eb832b",
   "metadata": {},
   "outputs": [],
   "source": []
  },
  {
   "cell_type": "code",
   "execution_count": null,
   "id": "679cdf1d",
   "metadata": {},
   "outputs": [],
   "source": []
  },
  {
   "cell_type": "code",
   "execution_count": null,
   "id": "88f9b059",
   "metadata": {},
   "outputs": [],
   "source": []
  },
  {
   "cell_type": "code",
   "execution_count": null,
   "id": "060acaf2",
   "metadata": {},
   "outputs": [],
   "source": []
  },
  {
   "cell_type": "code",
   "execution_count": null,
   "id": "da242d57",
   "metadata": {},
   "outputs": [],
   "source": []
  }
 ],
 "metadata": {
  "kernelspec": {
   "display_name": "Python 3 (ipykernel)",
   "language": "python",
   "name": "python3"
  },
  "language_info": {
   "codemirror_mode": {
    "name": "ipython",
    "version": 3
   },
   "file_extension": ".py",
   "mimetype": "text/x-python",
   "name": "python",
   "nbconvert_exporter": "python",
   "pygments_lexer": "ipython3",
   "version": "3.9.12"
  }
 },
 "nbformat": 4,
 "nbformat_minor": 5
}
