{
 "cells": [
  {
   "cell_type": "markdown",
   "id": "6e691d80",
   "metadata": {},
   "source": [
    "# 1. What are escape characters, and how do you use them?\n",
    "\n",
    "'\\'(back slash) in python called escape characters. to represent the white space, we are using escape characters.\n",
    "some example of escape characters are\n",
    "\n",
    "\"\\t\" is used for tab space\n",
    "\"\\n\" is used for new line\n",
    "\"\\r\" is used for carriage return"
   ]
  },
  {
   "cell_type": "markdown",
   "id": "5e85e33c",
   "metadata": {},
   "source": []
  },
  {
   "cell_type": "code",
   "execution_count": 5,
   "id": "ceb05e17",
   "metadata": {},
   "outputs": [
    {
     "name": "stdout",
     "output_type": "stream",
     "text": [
      "sandhya \tlaptop\n"
     ]
    }
   ],
   "source": [
    "print(\"sandhya \\tlaptop\") #gives tab space"
   ]
  },
  {
   "cell_type": "code",
   "execution_count": 6,
   "id": "30c0f941",
   "metadata": {},
   "outputs": [
    {
     "name": "stdout",
     "output_type": "stream",
     "text": [
      "sandhya\n",
      " laptop\n"
     ]
    }
   ],
   "source": [
    "print(\"sandhya\\n laptop\")#print the word in new line"
   ]
  },
  {
   "cell_type": "code",
   "execution_count": 12,
   "id": "cb942120",
   "metadata": {},
   "outputs": [
    {
     "name": "stdout",
     "output_type": "stream",
     "text": [
      "laptop\n"
     ]
    }
   ],
   "source": [
    "print(\"sandhya\\rlaptop\")#for carriage return"
   ]
  },
  {
   "cell_type": "markdown",
   "id": "4a27eb6d",
   "metadata": {},
   "source": [
    "# 2. What do the escape characters n and t stand for?\n",
    "\n",
    " \"\\t\" is used for tab space\n",
    " \n",
    "\"\\n\" is used for new line"
   ]
  },
  {
   "cell_type": "raw",
   "id": "ef6e30a2",
   "metadata": {},
   "source": []
  },
  {
   "cell_type": "code",
   "execution_count": 14,
   "id": "82e2de54",
   "metadata": {},
   "outputs": [
    {
     "name": "stdout",
     "output_type": "stream",
     "text": [
      "sandhya \tlaptop\n"
     ]
    }
   ],
   "source": [
    "print(\"sandhya \\tlaptop\") #gives tab space"
   ]
  },
  {
   "cell_type": "code",
   "execution_count": 16,
   "id": "10e401ac",
   "metadata": {},
   "outputs": [
    {
     "name": "stdout",
     "output_type": "stream",
     "text": [
      "sandhya\n",
      "laptop\n"
     ]
    }
   ],
   "source": [
    "print(\"sandhya\\nlaptop\")#print the word in new line"
   ]
  },
  {
   "cell_type": "markdown",
   "id": "c01ffd8f",
   "metadata": {},
   "source": [
    "# 3. What is the way to include backslash characters in a string?\n",
    "\n",
    "If you want to include the blackslash character in a string,we need to use 2 black slashes."
   ]
  },
  {
   "cell_type": "raw",
   "id": "45a99300",
   "metadata": {},
   "source": []
  },
  {
   "cell_type": "code",
   "execution_count": 18,
   "id": "c38a459a",
   "metadata": {},
   "outputs": [
    {
     "name": "stdout",
     "output_type": "stream",
     "text": [
      "sandhya \\laptop\n"
     ]
    }
   ],
   "source": [
    "#example for black slash include\n",
    "print(\"sandhya \\\\laptop\")"
   ]
  },
  {
   "cell_type": "markdown",
   "id": "3a311c59",
   "metadata": {},
   "source": [
    "# 4. The string &quot;Howl&#39;s Moving Castle&quot; is a correct value. Why isn&#39;t the single quote character in the word Howl&#39;s not escaped a problem?\n",
    "\n",
    "the single quote in Howl's is fine because you've used double quotes to mark the beginning and end of the string"
   ]
  },
  {
   "cell_type": "raw",
   "id": "9a207106",
   "metadata": {},
   "source": []
  },
  {
   "cell_type": "markdown",
   "id": "b0a8ea66",
   "metadata": {},
   "source": [
    "# 5. How do you write a string of newlines if you don&#39;t want to use the n character?\n",
    "\n",
    "\n",
    "multiline strings allow you to use newlines in strings without \\n escape character.\n",
    "and also use the print statement 2 times without using n character"
   ]
  },
  {
   "cell_type": "raw",
   "id": "9785a2d9",
   "metadata": {},
   "source": []
  },
  {
   "cell_type": "code",
   "execution_count": 22,
   "id": "8dd80a05",
   "metadata": {},
   "outputs": [
    {
     "name": "stdout",
     "output_type": "stream",
     "text": [
      "hello\n",
      "world\n"
     ]
    }
   ],
   "source": [
    "#example\n",
    "print(\"hello\")\n",
    "print(\"world\")"
   ]
  },
  {
   "cell_type": "markdown",
   "id": "109b20ef",
   "metadata": {},
   "source": [
    "# 6. What are the values of the given expressions?\n",
    "\n",
    "&#39;Hello, world!&#39;[1]\n",
    "\n",
    "&#39;Hello, world!&#39;[0:5]\n",
    "\n",
    "&#39;Hello, world!&#39;[:5]\n",
    "\n",
    "&#39;Hello, world!&#39;[3:]"
   ]
  },
  {
   "cell_type": "code",
   "execution_count": 23,
   "id": "22b41d9f",
   "metadata": {},
   "outputs": [
    {
     "data": {
      "text/plain": [
       "'e'"
      ]
     },
     "execution_count": 23,
     "metadata": {},
     "output_type": "execute_result"
    }
   ],
   "source": [
    "'Hello, world!'[1] #in python indexing starts from 0. so index of 1 is e"
   ]
  },
  {
   "cell_type": "code",
   "execution_count": 25,
   "id": "efd2b28f",
   "metadata": {},
   "outputs": [
    {
     "data": {
      "text/plain": [
       "'Hello'"
      ]
     },
     "execution_count": 25,
     "metadata": {},
     "output_type": "execute_result"
    }
   ],
   "source": [
    "'Hello, world!'[0:5] #in python indexing starts from 0. so [0:5] gives index values between 0 and 5. excludes index 5 character  "
   ]
  },
  {
   "cell_type": "code",
   "execution_count": 26,
   "id": "57ff986f",
   "metadata": {},
   "outputs": [
    {
     "data": {
      "text/plain": [
       "'Hello'"
      ]
     },
     "execution_count": 26,
     "metadata": {},
     "output_type": "execute_result"
    }
   ],
   "source": [
    "'Hello, world!'[:5]#not mention starting index value, it will take the starting index value. so prints the values between 0 and 5. excludes 5 "
   ]
  },
  {
   "cell_type": "code",
   "execution_count": 28,
   "id": "e9235b46",
   "metadata": {},
   "outputs": [
    {
     "data": {
      "text/plain": [
       "'lo, world!'"
      ]
     },
     "execution_count": 28,
     "metadata": {},
     "output_type": "execute_result"
    }
   ],
   "source": [
    "'Hello, world!'[3:]#not given the ending index value.automatically it will take endin index value"
   ]
  },
  {
   "cell_type": "markdown",
   "id": "a86f5d36",
   "metadata": {},
   "source": [
    "# 7. What are the values of the following expressions?\n",
    "\n",
    "&#39;Hello&#39;.upper()\n",
    "\n",
    "&#39;Hello&#39;.upper().isupper()\n",
    "\n",
    "&#39;Hello&#39;.upper().lower()"
   ]
  },
  {
   "cell_type": "code",
   "execution_count": 30,
   "id": "35bcba2d",
   "metadata": {},
   "outputs": [
    {
     "data": {
      "text/plain": [
       "'HELLO'"
      ]
     },
     "execution_count": 30,
     "metadata": {},
     "output_type": "execute_result"
    }
   ],
   "source": [
    "'Hello'.upper()#it converts all string(hello) into upper case letters"
   ]
  },
  {
   "cell_type": "code",
   "execution_count": 32,
   "id": "5f815223",
   "metadata": {},
   "outputs": [
    {
     "data": {
      "text/plain": [
       "True"
      ]
     },
     "execution_count": 32,
     "metadata": {},
     "output_type": "execute_result"
    }
   ],
   "source": [
    "'Hello'.upper().isupper()#it converts all string(hello) into upper case letters. and then check the condition. all letters are in upper or not. if letters are in upper means we get True as output"
   ]
  },
  {
   "cell_type": "code",
   "execution_count": 34,
   "id": "ad075be0",
   "metadata": {},
   "outputs": [
    {
     "data": {
      "text/plain": [
       "'hello'"
      ]
     },
     "execution_count": 34,
     "metadata": {},
     "output_type": "execute_result"
    }
   ],
   "source": [
    "'Hello'.upper().lower()#it first converts string(\"Hello\") into uppercase, then converted into lowercase, because of lower() method"
   ]
  },
  {
   "cell_type": "markdown",
   "id": "66e09a05",
   "metadata": {},
   "source": [
    "# 8. What are the values of the following expressions?\n",
    "\n",
    "&#39;Remember, remember, the fifth of July.&#39;.split()\n",
    "\n",
    "&#39;-&#39;.join(&#39;There can only one.&#39;.split())"
   ]
  },
  {
   "cell_type": "code",
   "execution_count": 35,
   "id": "e3e9fcfe",
   "metadata": {},
   "outputs": [
    {
     "data": {
      "text/plain": [
       "['Remember,', 'remember,', 'the', 'fifth', 'of', 'July.']"
      ]
     },
     "execution_count": 35,
     "metadata": {},
     "output_type": "execute_result"
    }
   ],
   "source": [
    "'Remember, remember, the fifth of July.'.split()#it split the each word at (comma or space)  and keep all values in list"
   ]
  },
  {
   "cell_type": "code",
   "execution_count": 41,
   "id": "426c7c84",
   "metadata": {},
   "outputs": [
    {
     "data": {
      "text/plain": [
       "'There-can-only-one'"
      ]
     },
     "execution_count": 41,
     "metadata": {},
     "output_type": "execute_result"
    }
   ],
   "source": [
    "'-'.join('There can only one'.split())#it joins the spliting words with -"
   ]
  },
  {
   "cell_type": "markdown",
   "id": "02cacb57",
   "metadata": {},
   "source": [
    "# 9. What are the methods for right-justifying, left-justifying, and centering a string?\n",
    "\n",
    "right-justifying a string by using rjust()\n",
    "\n",
    "left-justifying a string by using ljust()\n",
    "\n",
    "centering a string by using center() method"
   ]
  },
  {
   "cell_type": "raw",
   "id": "37abf6db",
   "metadata": {},
   "source": [
    "\n"
   ]
  },
  {
   "cell_type": "markdown",
   "id": "b9c74f4e",
   "metadata": {},
   "source": [
    "# 10. What is the best way to remove whitespace characters from the start or end?\n",
    "\n",
    "lstrip() and rstrip() are methods to remove white space characters from the start or end"
   ]
  },
  {
   "cell_type": "raw",
   "id": "4ecf914d",
   "metadata": {},
   "source": []
  },
  {
   "cell_type": "code",
   "execution_count": null,
   "id": "26f54e35",
   "metadata": {},
   "outputs": [],
   "source": []
  },
  {
   "cell_type": "code",
   "execution_count": null,
   "id": "2eda80c8",
   "metadata": {},
   "outputs": [],
   "source": []
  }
 ],
 "metadata": {
  "kernelspec": {
   "display_name": "Python 3 (ipykernel)",
   "language": "python",
   "name": "python3"
  },
  "language_info": {
   "codemirror_mode": {
    "name": "ipython",
    "version": 3
   },
   "file_extension": ".py",
   "mimetype": "text/x-python",
   "name": "python",
   "nbconvert_exporter": "python",
   "pygments_lexer": "ipython3",
   "version": "3.10.4"
  }
 },
 "nbformat": 4,
 "nbformat_minor": 5
}
