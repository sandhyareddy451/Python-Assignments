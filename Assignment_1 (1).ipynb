{
  "nbformat": 4,
  "nbformat_minor": 0,
  "metadata": {
    "colab": {
      "provenance": [],
      "collapsed_sections": []
    },
    "kernelspec": {
      "name": "python3",
      "display_name": "Python 3"
    },
    "language_info": {
      "name": "python"
    }
  },
  "cells": [
    {
      "cell_type": "markdown",
      "source": [
        "1.In the below elements which of them are values or an expression?\n",
        "\n",
        "eg:- values can be integer or string\n",
        "and expressions will be mathematical operators.\n",
        "\n",
        "*\n",
        "\"hello\"\n",
        "\n",
        "-87.8\n",
        "\n",
        "-\n",
        "\n",
        "/\n",
        "\n",
        "+\n",
        "\n",
        "6\n",
        "\n",
        "\n",
        "***values***:\n",
        "\n",
        "\"hello\"\n",
        "\n",
        "-87.8\n",
        "\n",
        "6\n",
        "\n",
        "***Expressions:***\n",
        "\n",
        "*\n",
        "\n",
        "-\n",
        "\n",
        "/\n",
        "\n",
        "+\n",
        "\n"
      ],
      "metadata": {
        "id": "iG1x2RcSdfl-"
      }
    },
    {
      "cell_type": "markdown",
      "source": [
        "**2. What is the difference between string and variable?**\n",
        "\n",
        "\n",
        "**String:**String is nothing but collection of alphabetes or characters represents in a quotations.\n",
        "\n",
        "*   Python uses single, double and triple codes to represents string.\n",
        "*   eg: \"Python\", \"Machine learning\"\n",
        "\n",
        "**Variable:** variable is a symbol that can be used to store a value or data in program.\n",
        "\n",
        "eg:\n",
        "name=\"Python Programming\"\n",
        "\n",
        "here name is a variable and Python Programming is string\n",
        "\n",
        "\n"
      ],
      "metadata": {
        "id": "28WhqNMlg6F-"
      }
    },
    {
      "cell_type": "markdown",
      "source": [
        "**3. Describe three different data types.**\n",
        "\n",
        "\n",
        "**strings**: String is nothing but collection of alphabetes or characters represents in a quotations.\n",
        "\n",
        "Python uses single, double and triple codes to represents string.\n",
        "eg: \"Python\", \"Machine learning\"\n",
        "\n",
        "\n",
        "**Lists**: Lists containg different data types. each data type is saparated by Commas, And elements in list are enclosed by Square Brackets.\n",
        "\n",
        "List follow Indexing, After creation of list You can add Elementa and delete values, if required.\n",
        "\n",
        "Eg: list=[1,2,3.5,\"python\",True]\n",
        "\n",
        "\n",
        "**Dictionary**: Dictionaries are unordered set of keyword pairs of items.\n",
        "Dictionary contains each key specifirs a value. Dictionary doesn't allow duplicate values, and doesn't follow indexing\n",
        "\n",
        "Eg: dict={1:\"python\", 2:\"Machine Learning\", 3:\"Deep Learning\"}"
      ],
      "metadata": {
        "id": "irsm0YfagtuH"
      }
    },
    {
      "cell_type": "markdown",
      "source": [
        "**4. What is an expression made up of? What do all expressions do?**\n",
        "\n",
        "**Expression:** Expression is a combination of values, operators and method invocation.\n",
        "\n",
        "1. Expression Evaluates based on precidence of operators\n",
        "\n",
        "2. Eg: 15/3*4+7\n",
        "\n",
        "Expressions evaluates into single value.\n",
        "\n"
      ],
      "metadata": {
        "id": "3-v6BVguqnt6"
      }
    },
    {
      "cell_type": "markdown",
      "source": [
        "5.**This assignment statements, like** **spam = 10**. **What is the difference between an expression and a statement?**\n",
        "\n",
        "\n",
        "*   Expression is a combination of values, operators and method invocation.\n",
        "*  Expressions evaluates into single value.\n",
        "\n",
        "  Statement doesn't do\n",
        "\n"
      ],
      "metadata": {
        "id": "ceNge3IzsunT"
      }
    },
    {
      "cell_type": "markdown",
      "source": [
        "**6. After running the following code, what does the variable bacon contain?**\n",
        "\n",
        "**bacon = 22**\n",
        "\n",
        "**bacon + 1**\n",
        "\n",
        "1. balcon value is same as 22. because balcon+1 doesn't reassigned to balcon. so after running the code balcon variable value doesn't changed.\n"
      ],
      "metadata": {
        "id": "n7TbNIpzt8Gb"
      }
    },
    {
      "cell_type": "markdown",
      "source": [
        "**7. What should the values of the following two terms be?**\n",
        "**&#39;spam&#39; + &#39;spamspam&#39;**\n",
        "\"spam\"*3\n",
        "\n",
        "both values are same\n",
        "\n",
        " 'spam' + 'spamspam'-----o/p: spamspamspam\n",
        "\n",
        " 'spam'*3----------------o/p: spamspamspam"
      ],
      "metadata": {
        "id": "l5QaYxVDusUT"
      }
    },
    {
      "cell_type": "markdown",
      "source": [
        "**8. Why is eggs a valid variable name while 100 is invalid?**\n",
        "\n",
        "variable name in python starts with characters or alphabets, 100 is a numerical value. so thats why 100 is invalid for variable name."
      ],
      "metadata": {
        "id": "erxJgLUP3Gud"
      }
    },
    {
      "cell_type": "markdown",
      "source": [
        "**9. What three functions can be used to get the integer, floating-point number, or string version of a value?**\n",
        "\n",
        "int(), float() and str() are three functions used to get the integer, floating-point number, or string version of a value passed to it."
      ],
      "metadata": {
        "id": "SbQ3Ss-q3owk"
      }
    },
    {
      "cell_type": "markdown",
      "source": [
        "**10. Why does this expression cause an error? How can you fix it?**\n",
        "\n",
        "'**I have eaten'; + 99 + 'burritos'.**\n",
        "\n",
        "\n",
        "1.  In the above expression 99 is integer, using + operator we have to concatinate two strings only. that's why we get error while executing above expression.\n",
        "\n",
        "2.  If you want remove error, convert integer 99 into string value. below like this\n",
        " \n",
        "'**I have eaten' + str(99) + 'burritos'**\n",
        "\n",
        "\n"
      ],
      "metadata": {
        "id": "luAZq2NT4Ea0"
      }
    },
    {
      "cell_type": "code",
      "source": [],
      "metadata": {
        "id": "DcoIrrgi5Vac"
      },
      "execution_count": null,
      "outputs": []
    }
  ]
}