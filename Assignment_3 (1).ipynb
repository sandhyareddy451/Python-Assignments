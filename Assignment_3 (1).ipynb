{
  "nbformat": 4,
  "nbformat_minor": 0,
  "metadata": {
    "colab": {
      "provenance": []
    },
    "kernelspec": {
      "name": "python3",
      "display_name": "Python 3"
    },
    "language_info": {
      "name": "python"
    }
  },
  "cells": [
    {
      "cell_type": "markdown",
      "source": [
        "#1. Why are functions advantageous to have in your programs?"
      ],
      "metadata": {
        "id": "I_2NJbc4jvmH"
      }
    },
    {
      "cell_type": "markdown",
      "source": [
        "**Function :** Function is a block of code. The code can be reused in your program where you want\n",
        "\n",
        "* Because of Reusability we can eliminates the duplication of code.\n",
        "\n",
        "* Easily read the code and Update the code\n",
        "\n"
      ],
      "metadata": {
        "id": "Iz2Z6JxCj5xo"
      }
    },
    {
      "cell_type": "markdown",
      "source": [
        "#2. When does the code in a function run: when it's specified or when it's called?"
      ],
      "metadata": {
        "id": "GhyFMQlvk30f"
      }
    },
    {
      "cell_type": "markdown",
      "source": [
        "The code in a function is Executed (run). when function is called. not when it is defined."
      ],
      "metadata": {
        "id": "xDbVmu9ClHPv"
      }
    },
    {
      "cell_type": "code",
      "source": [
        "def add(a,b): #function Declaration\n",
        "  return a+b\n",
        "  add(3,4)  #called function"
      ],
      "metadata": {
        "id": "NRsYdkqyjuf_"
      },
      "execution_count": null,
      "outputs": []
    },
    {
      "cell_type": "markdown",
      "source": [
        "#3. What statement creates a function?"
      ],
      "metadata": {
        "id": "4Pi4LqfKmCpH"
      }
    },
    {
      "cell_type": "markdown",
      "source": [
        "**The function is Created by using def Statement.**\n"
      ],
      "metadata": {
        "id": "GGCzAKkSmLG-"
      }
    },
    {
      "cell_type": "code",
      "source": [
        "def add(a,b): #defining a function.\n",
        "  return a+b\n",
        "  add(3,4)  "
      ],
      "metadata": {
        "id": "DJgyJ1wRlvyZ"
      },
      "execution_count": null,
      "outputs": []
    },
    {
      "cell_type": "markdown",
      "source": [
        "#4. What is the difference between a function and a function call?"
      ],
      "metadata": {
        "id": "ms-LN2yRmwem"
      }
    },
    {
      "cell_type": "markdown",
      "source": [
        "\n",
        "**Function :** Function Consists of def statement, based on our requirement we write the code in function.\n",
        "\n",
        "**Function call :** The Execution of code is done by calling the function, we are created"
      ],
      "metadata": {
        "id": "dESW5pQunAM2"
      }
    },
    {
      "cell_type": "markdown",
      "source": [
        "#5. How many global scopes are there in a Python program? How many local scopes?"
      ],
      "metadata": {
        "id": "9digG1NooD-O"
      }
    },
    {
      "cell_type": "markdown",
      "source": [
        "**Global Scope :** Global Scope refers to name of variable declared out side of function.The accessing of variable is thruoghout program.\n",
        "\n",
        "\n",
        "**Local Scope :**  Local Scope refers to name of variable declared inside of function.The accessing of variable from point of Defination to end of block. in which it has been Defined. \n",
        "\n",
        "**There are only 1 Global scope and 1 Local Scope is created where program is called.**"
      ],
      "metadata": {
        "id": "iqMUNZbAoQHV"
      }
    },
    {
      "cell_type": "markdown",
      "source": [
        "#6. What happens to variables in a local scope when the function call returns?"
      ],
      "metadata": {
        "id": "zDQSBBxbqUPG"
      }
    },
    {
      "cell_type": "markdown",
      "source": [
        "When Execution of function terminates, local Variables are Destroyed.\n",
        "\n"
      ],
      "metadata": {
        "id": "I0AWPrfRqlg2"
      }
    },
    {
      "cell_type": "code",
      "source": [
        "#Example\n",
        "def square(x):\n",
        "   y=x*x\n",
        "   return y\n",
        "z=square(10)\n",
        "print(y) #here y is local variable. if you call return function will destroy\n"
      ],
      "metadata": {
        "colab": {
          "base_uri": "https://localhost:8080/",
          "height": 200
        },
        "id": "DV13nB6YmngJ",
        "outputId": "bfb0dff5-4cb3-4108-e788-5ca5423689e7"
      },
      "execution_count": null,
      "outputs": [
        {
          "output_type": "error",
          "ename": "NameError",
          "evalue": "ignored",
          "traceback": [
            "\u001b[0;31m---------------------------------------------------------------------------\u001b[0m",
            "\u001b[0;31mNameError\u001b[0m                                 Traceback (most recent call last)",
            "\u001b[0;32m<ipython-input-6-6def6894e563>\u001b[0m in \u001b[0;36m<module>\u001b[0;34m\u001b[0m\n\u001b[1;32m      4\u001b[0m    \u001b[0;32mreturn\u001b[0m \u001b[0my\u001b[0m\u001b[0;34m\u001b[0m\u001b[0;34m\u001b[0m\u001b[0m\n\u001b[1;32m      5\u001b[0m \u001b[0mz\u001b[0m\u001b[0;34m=\u001b[0m\u001b[0msquare\u001b[0m\u001b[0;34m(\u001b[0m\u001b[0;36m10\u001b[0m\u001b[0;34m)\u001b[0m\u001b[0;34m\u001b[0m\u001b[0;34m\u001b[0m\u001b[0m\n\u001b[0;32m----> 6\u001b[0;31m \u001b[0mprint\u001b[0m\u001b[0;34m(\u001b[0m\u001b[0my\u001b[0m\u001b[0;34m)\u001b[0m\u001b[0;34m\u001b[0m\u001b[0;34m\u001b[0m\u001b[0m\n\u001b[0m",
            "\u001b[0;31mNameError\u001b[0m: name 'y' is not defined"
          ]
        }
      ]
    },
    {
      "cell_type": "markdown",
      "source": [
        "#7. What is the concept of a return value? Is it possible to have a return value in an expression?"
      ],
      "metadata": {
        "id": "zOq2TOmOri4M"
      }
    },
    {
      "cell_type": "markdown",
      "source": [
        "return is a value, when a function returns to calling function. when complete its task.\n",
        "\n",
        " A python statement will always have return statement.If you don't Explicitly use return in return statements, python will implicitly return a default value.\n"
      ],
      "metadata": {
        "id": "4CFPPEn-rukN"
      }
    },
    {
      "cell_type": "markdown",
      "source": [
        "#8. If a function does not have a return statement, what is the return value of a call to that function?"
      ],
      "metadata": {
        "id": "CXnbroHGsuFd"
      }
    },
    {
      "cell_type": "markdown",
      "source": [
        "there is no return statement appears in function defination.Controller automatically returns calling function after completing the last statement of called function executed.\n",
        "\n",
        "return value of called function is none or Undefined."
      ],
      "metadata": {
        "id": "L9PZkb61s6DM"
      }
    },
    {
      "cell_type": "markdown",
      "source": [
        "#9. How do you make a function variable refer to the global variable?"
      ],
      "metadata": {
        "id": "Ob-f14VgtkyU"
      }
    },
    {
      "cell_type": "markdown",
      "source": [
        "By converting local variable into global variable by using global keyword.\n"
      ],
      "metadata": {
        "id": "d65Gmbvft1ar"
      }
    },
    {
      "cell_type": "code",
      "source": [
        "def local():\n",
        "  global x\n",
        "  x=\"fantastic\"\n",
        "local()\n",
        "print(\"the variable is \", x)\n"
      ],
      "metadata": {
        "colab": {
          "base_uri": "https://localhost:8080/"
        },
        "id": "kikRXoNerLe4",
        "outputId": "3187d680-5d27-4bdd-bcb8-7ae0c9fc4aa8"
      },
      "execution_count": null,
      "outputs": [
        {
          "output_type": "stream",
          "name": "stdout",
          "text": [
            "the variable is  fantastic\n"
          ]
        }
      ]
    },
    {
      "cell_type": "markdown",
      "source": [
        "#10. What is the data type of None?"
      ],
      "metadata": {
        "id": "t3NhpVv3ulWl"
      }
    },
    {
      "cell_type": "markdown",
      "source": [
        "the data type of None is NoneType"
      ],
      "metadata": {
        "id": "20weG9zQuun0"
      }
    },
    {
      "cell_type": "code",
      "source": [
        "print(type(None))"
      ],
      "metadata": {
        "colab": {
          "base_uri": "https://localhost:8080/"
        },
        "id": "xUJMvtigvBVD",
        "outputId": "d1523e62-0349-41f5-e2cb-39c3a5de569a"
      },
      "execution_count": null,
      "outputs": [
        {
          "output_type": "stream",
          "name": "stdout",
          "text": [
            "<class 'NoneType'>\n"
          ]
        }
      ]
    },
    {
      "cell_type": "markdown",
      "source": [
        "#11. What does the sentence import areallyourpetsnamederic do?"
      ],
      "metadata": {
        "id": "Wv90cmkqvQBT"
      }
    },
    {
      "cell_type": "markdown",
      "source": [
        "import statement import a model areallyourpetsnamederic, this is not a real python model."
      ],
      "metadata": {
        "id": "humqV2pCvccM"
      }
    },
    {
      "cell_type": "code",
      "source": [
        "import  areallyourpetsnamederic"
      ],
      "metadata": {
        "colab": {
          "base_uri": "https://localhost:8080/",
          "height": 304
        },
        "id": "AH0_eBIgu00C",
        "outputId": "72525a21-395e-4eb4-c6e3-64b21cb4901d"
      },
      "execution_count": null,
      "outputs": [
        {
          "output_type": "error",
          "ename": "ModuleNotFoundError",
          "evalue": "ignored",
          "traceback": [
            "\u001b[0;31m---------------------------------------------------------------------------\u001b[0m",
            "\u001b[0;31mModuleNotFoundError\u001b[0m                       Traceback (most recent call last)",
            "\u001b[0;32m<ipython-input-16-848d9e7eab14>\u001b[0m in \u001b[0;36m<module>\u001b[0;34m\u001b[0m\n\u001b[0;32m----> 1\u001b[0;31m \u001b[0;32mimport\u001b[0m  \u001b[0mareallyourpetsnamederic\u001b[0m\u001b[0;34m\u001b[0m\u001b[0;34m\u001b[0m\u001b[0m\n\u001b[0m",
            "\u001b[0;31mModuleNotFoundError\u001b[0m: No module named 'areallyourpetsnamederic'",
            "",
            "\u001b[0;31m---------------------------------------------------------------------------\u001b[0;32m\nNOTE: If your import is failing due to a missing package, you can\nmanually install dependencies using either !pip or !apt.\n\nTo view examples of installing some common dependencies, click the\n\"Open Examples\" button below.\n\u001b[0;31m---------------------------------------------------------------------------\u001b[0m\n"
          ],
          "errorDetails": {
            "actions": [
              {
                "action": "open_url",
                "actionText": "Open Examples",
                "url": "/notebooks/snippets/importing_libraries.ipynb"
              }
            ]
          }
        }
      ]
    },
    {
      "cell_type": "markdown",
      "source": [
        "#12. If you had a bacon() feature in a spam module, what would you call it after importing spam?"
      ],
      "metadata": {
        "id": "wrdaz-hjvzHr"
      }
    },
    {
      "cell_type": "code",
      "source": [
        "import spam\n",
        "spam.bacon()"
      ],
      "metadata": {
        "id": "yiTMTk1-vvKd"
      },
      "execution_count": null,
      "outputs": []
    },
    {
      "cell_type": "markdown",
      "source": [
        "#13. What can you do to save a programme from crashing if it encounters an error?"
      ],
      "metadata": {
        "id": "20FSGm6cxAoj"
      }
    },
    {
      "cell_type": "markdown",
      "source": [
        "if it encounters an Error control is passed to except block. It skip the code between them.\n",
        "\n",
        "*  we have moved our code inside a try and except.\n",
        "*  Try running the program. It shows the error msg. instead of crashing program\n",
        "\n",
        "\n",
        "\n",
        ","
      ],
      "metadata": {
        "id": "B3WPf_J0xlWb"
      }
    },
    {
      "cell_type": "markdown",
      "source": [
        "#14. What is the purpose of the try clause? What is the purpose of the except clause?"
      ],
      "metadata": {
        "id": "9NExIoeJyTw7"
      }
    },
    {
      "cell_type": "markdown",
      "source": [
        "**Try :** Try block allows you to test a block code for errors.\n",
        "\n",
        "**Except :** Except block lets you handle the errors\n"
      ],
      "metadata": {
        "id": "Lfn9cdiryYBM"
      }
    }
  ]
}