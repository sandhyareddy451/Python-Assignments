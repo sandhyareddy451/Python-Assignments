{
  "nbformat": 4,
  "nbformat_minor": 0,
  "metadata": {
    "colab": {
      "provenance": [],
      "collapsed_sections": []
    },
    "kernelspec": {
      "name": "python3",
      "display_name": "Python 3"
    },
    "language_info": {
      "name": "python"
    }
  },
  "cells": [
    {
      "cell_type": "markdown",
      "source": [
        "**1.What is indentation error? Why indentation is important? Give one simple example?**"
      ],
      "metadata": {
        "id": "W06FlpdxAns8"
      }
    },
    {
      "cell_type": "markdown",
      "source": [
        "**Indentation** : Interpreters generally do not know the sequence in which they need to execute the statements in a piece of code. Hence, to make it easier, we divide the code into several blocks of code and indent it. This indentation helps them understand the order in which each block should be executed.\n",
        "\n",
        "**Indentation error** : Python, where the code is arranged through whitespaces. If there is an incorrect indentation, this will result in an error, and the python interpreter will just return an error function.thats why indentation is most important.\n",
        "\n"
      ],
      "metadata": {
        "id": "XTpu8c3zBF26"
      }
    },
    {
      "cell_type": "code",
      "source": [
        "#example for indentation error\n",
        "l=[1,2,3,4,5]\n",
        "for i in l:\n",
        "print(i)#print(i) statement is in for  loop, so we dont give space means it shows indentation error\n"
      ],
      "metadata": {
        "colab": {
          "base_uri": "https://localhost:8080/",
          "height": 130
        },
        "id": "5c4pheeLArks",
        "outputId": "e6e4fcb5-084e-410a-f0d4-7691542dc2b3"
      },
      "execution_count": 1,
      "outputs": [
        {
          "output_type": "error",
          "ename": "IndentationError",
          "evalue": "ignored",
          "traceback": [
            "\u001b[0;36m  File \u001b[0;32m\"<ipython-input-1-151e2f30d671>\"\u001b[0;36m, line \u001b[0;32m4\u001b[0m\n\u001b[0;31m    print(i)\u001b[0m\n\u001b[0m        ^\u001b[0m\n\u001b[0;31mIndentationError\u001b[0m\u001b[0;31m:\u001b[0m expected an indented block\n"
          ]
        }
      ]
    },
    {
      "cell_type": "markdown",
      "source": [
        "**2.** **Correct the following code and write the comment where you made the correction?**\n",
        "\n",
        "class_started = bool(input(\"Hey friend, is class started?: [0-False/1-True]\"))\n",
        "\n",
        "if class_started:\n",
        "   print(\"Since class started...\")\n",
        "   print(\"Lets concentrate\")\n",
        "else:\n",
        "   print(\"Since class is not started...\")\n",
        "   print(\"let's revise\")    "
      ],
      "metadata": {
        "id": "iMQCDZaSCq8R"
      }
    },
    {
      "cell_type": "code",
      "source": [
        "class_started = int(input(\"Hey friend, is class started?: [0-False/1-True]\"))#class_started = bool(input(\"Hey friend, is class started?: [0-False/1-True]\")) its wront give input type is int not bool \n",
        "\n",
        "if class_started:\n",
        "   print(\"Since class started...\")\n",
        "   print(\"Lets concentrate\")\n",
        "else:\n",
        "   print(\"Since class is not started...\")\n",
        "   print(\"let's revise\")    "
      ],
      "metadata": {
        "colab": {
          "base_uri": "https://localhost:8080/"
        },
        "id": "7eYAERCeCzjJ",
        "outputId": "e0259cef-d658-43c4-a9b2-4f46692026d5"
      },
      "execution_count": 14,
      "outputs": [
        {
          "output_type": "stream",
          "name": "stdout",
          "text": [
            "Hey friend, is class started?: [0-False/1-True]0\n",
            "Since class is not started...\n",
            "let's revise\n"
          ]
        }
      ]
    },
    {
      "cell_type": "code",
      "source": [],
      "metadata": {
        "id": "DWxSP-BeJ6Vt"
      },
      "execution_count": null,
      "outputs": []
    },
    {
      "cell_type": "markdown",
      "source": [
        "**3.Use if else condition to verify that dataype of input() method in python is always string.**\n",
        "\n",
        "\n"
      ],
      "metadata": {
        "id": "-xnpbsoIKBEf"
      }
    },
    {
      "cell_type": "code",
      "source": [
        "n1 = input(\"Enter a value:  \")\n",
        "print(type(n1))\n",
        "\n",
        "if n1==\"hello\":\n",
        "  print('hi, how are you!!!!')\n",
        "else:\n",
        "  print(\"Good Bye\")\n"
      ],
      "metadata": {
        "colab": {
          "base_uri": "https://localhost:8080/"
        },
        "id": "-qvcu0AGKkTe",
        "outputId": "410e0c14-ec1b-4db8-8612-c46095ffd882"
      },
      "execution_count": 18,
      "outputs": [
        {
          "output_type": "stream",
          "name": "stdout",
          "text": [
            "Enter a value:  hello\n",
            "<class 'str'>\n",
            "hi, how are you!!!!\n"
          ]
        }
      ]
    },
    {
      "cell_type": "markdown",
      "source": [
        "**4. Take 3 variables and assign integer values to them. Find the largest variable, by only using the if and else conditions.**"
      ],
      "metadata": {
        "id": "DsvOpDRZM3UG"
      }
    },
    {
      "cell_type": "code",
      "source": [
        "\n",
        "num1 = 10\n",
        "num2 = 14\n",
        "num3 = 17\n",
        "\n",
        "if (num1 >= num2) and (num1 >= num3):\n",
        "   print(\"largest number is \", num1)\n",
        "elif (num2 >= num1) and (num2 >= num3):\n",
        "   print(\"largest number is \", num2)\n",
        "else:\n",
        "   largest = num3\n",
        "\n",
        "print(\"The largest number is\", num3)"
      ],
      "metadata": {
        "colab": {
          "base_uri": "https://localhost:8080/"
        },
        "id": "86sw7XJdKwFR",
        "outputId": "58cdaf28-7392-410c-bcf3-75ce5800499b"
      },
      "execution_count": 21,
      "outputs": [
        {
          "output_type": "stream",
          "name": "stdout",
          "text": [
            "The largest number is 17\n"
          ]
        }
      ]
    },
    {
      "cell_type": "markdown",
      "source": [
        "**5. What would be the solution?**\n",
        "\n",
        "True\n",
        "\n",
        "False\n",
        "\n",
        "a = 6\n",
        "b = 10\n",
        "print( not ( not a == 10 or not b == 10) )"
      ],
      "metadata": {
        "id": "tJ5OS1A4NUg3"
      }
    },
    {
      "cell_type": "code",
      "source": [
        "a = 6\n",
        "b = 10\n",
        "print( not ( not a == 10 or not b == 10) )#(not(true or false))###not(true)[using not table]"
      ],
      "metadata": {
        "colab": {
          "base_uri": "https://localhost:8080/"
        },
        "id": "n39k3uGtNa0T",
        "outputId": "949e3314-82d4-4f50-d8fa-20948ab528aa"
      },
      "execution_count": 24,
      "outputs": [
        {
          "output_type": "stream",
          "name": "stdout",
          "text": [
            "False\n"
          ]
        }
      ]
    },
    {
      "cell_type": "markdown",
      "source": [
        "**6.Find the answer as well as find out the reason behind the result? -**\n",
        "\n",
        "case 1:\n",
        "  A = 5.0\n",
        "  B = 10/2\n",
        "  print(A is B)\n",
        "case 2:\n",
        "  A = 5.0\n",
        "  B = int(10/2)\n",
        "  print(A is B)\n",
        "case 3:\n",
        "  A = 5.0\n",
        "  B = float(10/2)\n",
        "  print(A is B)"
      ],
      "metadata": {
        "id": "U-c98QCINxfF"
      }
    },
    {
      "cell_type": "code",
      "source": [
        "#case 1:\n",
        "A = 5.0\n",
        "B = 10/2\n",
        "print(A is B)#two variables are allocated to different memory locations so A is not B"
      ],
      "metadata": {
        "colab": {
          "base_uri": "https://localhost:8080/"
        },
        "id": "Y6M5ipgXNgRI",
        "outputId": "a4231730-d406-4dcf-c1b5-775d701ff0d3"
      },
      "execution_count": 31,
      "outputs": [
        {
          "output_type": "stream",
          "name": "stdout",
          "text": [
            "False\n"
          ]
        }
      ]
    },
    {
      "cell_type": "code",
      "source": [
        "#case 2:\n",
        "A = 5.0\n",
        "B = int(10/2)\n",
        "print(type(A))\n",
        "print(type(B))\n",
        "print(A is B)#both values are showing diffrent data types, means values are same but datatypes are different. so answers is false"
      ],
      "metadata": {
        "colab": {
          "base_uri": "https://localhost:8080/"
        },
        "id": "8qllaRQ3OHPL",
        "outputId": "a593ca3b-981b-4192-f227-8684d76707b2"
      },
      "execution_count": 33,
      "outputs": [
        {
          "output_type": "stream",
          "name": "stdout",
          "text": [
            "<class 'float'>\n",
            "<class 'int'>\n",
            "False\n"
          ]
        }
      ]
    },
    {
      "cell_type": "code",
      "source": [
        "#case 3:\n",
        "A = 5.0\n",
        "B = float(10/2)\n",
        "print(type(A))\n",
        "print(type(B))\n",
        "print(A is B)#two variables are allocated to different memory locations so A is not B\n"
      ],
      "metadata": {
        "colab": {
          "base_uri": "https://localhost:8080/"
        },
        "id": "zJZMJaZNPZSW",
        "outputId": "dbbdd49b-bc1b-4e58-de71-eaa266af016b"
      },
      "execution_count": 35,
      "outputs": [
        {
          "output_type": "stream",
          "name": "stdout",
          "text": [
            "<class 'float'>\n",
            "<class 'float'>\n",
            "False\n"
          ]
        }
      ]
    },
    {
      "cell_type": "markdown",
      "source": [
        "**7. Write a program that asks the user to enter a number. You should print out a message to the user, either “That number is divisible by either 3 or 5”, or “That number is not divisible by either 3 or 5”. Be sure to consider the data type of the input you are taking in from the user. Use a single if/else block to solve this problem.**"
      ],
      "metadata": {
        "id": "OovozaOuRaFN"
      }
    },
    {
      "cell_type": "code",
      "source": [
        "n=int(input(\"Enter a number: \"))\n",
        "\n",
        "if n%3==0 or n%5==0:\n",
        "  print(\"The number is divisible by either 3 or 5\")\n",
        "else:\n",
        "  print(\"The number is not divisible by either 3 or 5\")"
      ],
      "metadata": {
        "colab": {
          "base_uri": "https://localhost:8080/"
        },
        "id": "zSX3tdvJP31z",
        "outputId": "46ac5461-beae-46a4-f956-4b96b2a328a7"
      },
      "execution_count": 43,
      "outputs": [
        {
          "output_type": "stream",
          "name": "stdout",
          "text": [
            "Enter a number: 21\n",
            "The number is divisible by either 3 or 5\n"
          ]
        }
      ]
    },
    {
      "cell_type": "markdown",
      "source": [
        "**8.Take user input for length and width. Then calculate the area of rectangle. Also print as per length and width whether its a square of rectangle.**\n"
      ],
      "metadata": {
        "id": "KuUobVbITNeE"
      }
    },
    {
      "cell_type": "code",
      "source": [
        "l=int(input(\"Enter the Lenth of Rectangle: \"))\n",
        "b=int(input(\"Enter the Breadth of Rectangle: \"))\n",
        "area=l*b\n",
        "print(f\"area \", area)\n",
        "if l==b:\n",
        "  print(\"length and breadth are equal, its a squre\")\n",
        "else:\n",
        " print(\"length and breadth are not equal, its a rectangle\")"
      ],
      "metadata": {
        "colab": {
          "base_uri": "https://localhost:8080/"
        },
        "id": "gqo5mmzaSHhv",
        "outputId": "9a12f282-2ab1-4ff9-f9aa-3469db52c3df"
      },
      "execution_count": 49,
      "outputs": [
        {
          "output_type": "stream",
          "name": "stdout",
          "text": [
            "Enter the Lenth of Rectangle: 6\n",
            "Enter the Breadth of Rectangle: 7\n",
            "area  42\n",
            "length and breadth are not equal, its a rectangle\n"
          ]
        }
      ]
    },
    {
      "cell_type": "markdown",
      "source": [
        "*9.** **Take two variable radius_1 and radius_2 and calculate the area of circle_1 and circle_2. Also print which circle has large area. If area is equal then print area is equal.**"
      ],
      "metadata": {
        "id": "C_qBOxYyUn-1"
      }
    },
    {
      "cell_type": "code",
      "source": [
        "radius_1=int(input(\"Enter the radious1: \"))\n",
        "radius_2=int(input(\"Enter the radious2: \"))\n",
        "area1=3.14*radius_1**2\n",
        "area2=3.14*radius_2**2\n",
        "print(\"area of circle1: \", area1)\n",
        "print(\"area of circle2: \", area2)\n",
        "if area1>area2:\n",
        "  print(\"cicle_1 has large area\")\n",
        "elif area2>area1:\n",
        "   print(\"cicle_2 has large area\")\n",
        "else:\n",
        "   print(\"cicle1 has equal area\")"
      ],
      "metadata": {
        "colab": {
          "base_uri": "https://localhost:8080/"
        },
        "id": "ijw1uWy4TjlG",
        "outputId": "40a0ab02-e396-47bd-8bf9-12b857ffc6ff"
      },
      "execution_count": 54,
      "outputs": [
        {
          "output_type": "stream",
          "name": "stdout",
          "text": [
            "Enter the radious1: 3\n",
            "Enter the radious2: 3\n",
            "area of circle1:  28.26\n",
            "area of circle2:  28.26\n",
            "cicle1 has equal area\n"
          ]
        }
      ]
    },
    {
      "cell_type": "markdown",
      "source": [
        "**10. Check whether a year is leap year or not. Use nested if...else to solve this problem. A leap year is exactly divisible by 4 except for century years (years ending with 00). The century year is a leap year only if it is perfectly divisible by 400.**"
      ],
      "metadata": {
        "id": "Y86IAYMkWySj"
      }
    },
    {
      "cell_type": "code",
      "source": [
        "year = 2000\n",
        "\n",
        "if (year % 400 == 0) and (year % 100 == 0):\n",
        "    print(f\"{year} is a leap year\")\n",
        "\n",
        "# not divided by 100 means not a century year\n",
        "# year divided by 4 is a leap year\n",
        "elif (year % 4 ==0) and (year % 100 != 0):\n",
        "    print(f\"{year} is a leap year\")\n",
        "\n",
        "# if not divided by both 400 (century year) and 4 (not century year)\n",
        "# year is not leap year\n",
        "else:\n",
        "    print(f\"{year} is not a leap year\")"
      ],
      "metadata": {
        "colab": {
          "base_uri": "https://localhost:8080/"
        },
        "id": "gBAVd-7RVi0A",
        "outputId": "83c0c2d8-481c-44a3-a616-dfec3bca962b"
      },
      "execution_count": 58,
      "outputs": [
        {
          "output_type": "stream",
          "name": "stdout",
          "text": [
            "2000 is a leap year\n"
          ]
        }
      ]
    },
    {
      "cell_type": "code",
      "source": [],
      "metadata": {
        "id": "LWwQVthwXkUp"
      },
      "execution_count": null,
      "outputs": []
    }
  ]
}