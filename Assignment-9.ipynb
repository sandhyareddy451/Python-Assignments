{
 "cells": [
  {
   "cell_type": "markdown",
   "id": "36cf4028",
   "metadata": {},
   "source": [
    "### 1. To what does a relative path refer?"
   ]
  },
  {
   "cell_type": "markdown",
   "id": "33f88496",
   "metadata": {},
   "source": [
    "The relative path is the path of a file with respect to your current working directory (PWD)."
   ]
  },
  {
   "cell_type": "markdown",
   "id": "c49f119d",
   "metadata": {},
   "source": [
    "### 2. What does an absolute path start with your operating system?\n",
    "An absolute path contains the full set of directories from the root of the file system up to your target file or directory. An absolute path start with the root folder, such as / or C:."
   ]
  },
  {
   "cell_type": "markdown",
   "id": "b2484684",
   "metadata": {},
   "source": [
    "### 3. What do the functions os.getcwd() and os.chdir() do?"
   ]
  },
  {
   "cell_type": "markdown",
   "id": "ada8e11c",
   "metadata": {},
   "source": [
    "\n",
    "\n",
    "- getcwd stands for \"get current working directory\".\n",
    "- os.getcwd() returns the absolute path of the working directory where Python is currently running as a string str.\n",
    "\n",
    "- chdir stands of \"change directory\".\n",
    "\n",
    "- os.chdir() method in Python used to change the current working directory to specified path. It takes only a single argument as new directory path.\n"
   ]
  },
  {
   "cell_type": "markdown",
   "id": "f1d5563f",
   "metadata": {},
   "source": [
    "### 4. What are the . and .. folders?\n",
    "The is the current directory, while .. signifies the parent directory."
   ]
  },
  {
   "cell_type": "markdown",
   "id": "c3ee8aff",
   "metadata": {},
   "source": [
    "### 5. In C:\\bacon\\eggs\\spam.txt, which part is the dir name, and which part is the base name?\n",
    "\n",
    "- The basename is the final rightmost segment of the file path.\n",
    "\n",
    "- In the above path base name is spam.txt.\n",
    "- os.path.basename() can be used to extract base name from the path.\n",
    "- dir name is th folder name in which file exists.\n",
    "- In the above path dir name is C:\\bacon\\eggs.\n",
    "- os.path.dirname() can be used to extract dir name form path."
   ]
  },
  {
   "cell_type": "markdown",
   "id": "047a0cb4",
   "metadata": {},
   "source": [
    "### 6. What are the three “mode” arguments that can be passed to the open() function?\n",
    "\n",
    "mode arguments that can be passed to open () function are: 'r' Open a file for reading. (default) 'w' Open a file for writing. Creates a new file if it does not exist or truncates the file if it exists. 'a' Open for appending at the end of the file without truncating it. Creates a new file if it does not exist. '+' Open a file for updating (reading and writing)"
   ]
  },
  {
   "cell_type": "markdown",
   "id": "a76ef304",
   "metadata": {},
   "source": [
    "### 7. What happens if an existing file is opened in write mode?\n",
    "when a existing file is opened in write mode, contens which were previously present will be overwritten by new content passed.\n",
    "\n"
   ]
  },
  {
   "cell_type": "markdown",
   "id": "c97d3834",
   "metadata": {},
   "source": [
    "### 8. How do you tell the difference between read() and readlines()?\n",
    "read() reads the entire contents of the file into a string. readline() just reads file till the next line."
   ]
  },
  {
   "cell_type": "markdown",
   "id": "c1d79cbd",
   "metadata": {},
   "source": [
    "### 9. What data structure does a shelf value resemble?\n",
    "A shelf value resembles a dictionary value.\n",
    "It has keys and values, along with keys() and values() methods that work similarly to the dictionary methods of the same names."
   ]
  }
 ],
 "metadata": {
  "kernelspec": {
   "display_name": "Python 3 (ipykernel)",
   "language": "python",
   "name": "python3"
  },
  "language_info": {
   "codemirror_mode": {
    "name": "ipython",
    "version": 3
   },
   "file_extension": ".py",
   "mimetype": "text/x-python",
   "name": "python",
   "nbconvert_exporter": "python",
   "pygments_lexer": "ipython3",
   "version": "3.9.13"
  }
 },
 "nbformat": 4,
 "nbformat_minor": 5
}
