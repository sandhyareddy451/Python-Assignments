{
 "cells": [
  {
   "cell_type": "markdown",
   "id": "7171ce9b",
   "metadata": {},
   "source": [
    "# 1. What are escape characters, and how do you use them?"
   ]
  },
  {
   "cell_type": "raw",
   "id": "2a2892f7",
   "metadata": {},
   "source": [
    "'\\'(back slash) in python called escape characters. to represent the white space, we are using escape characters.\n",
    "some example of escape characters are\n",
    "\n",
    "\"\\t\" is used for tab space\n",
    "\"\\n\" is used for new line\n",
    "\"\\r\" is used for carriage return"
   ]
  },
  {
   "cell_type": "code",
   "execution_count": 5,
   "id": "93493973",
   "metadata": {},
   "outputs": [
    {
     "name": "stdout",
     "output_type": "stream",
     "text": [
      "sandhya \tlaptop\n"
     ]
    }
   ],
   "source": [
    "print(\"sandhya \\tlaptop\") #gives tab space"
   ]
  },
  {
   "cell_type": "code",
   "execution_count": 6,
   "id": "2f74c8ac",
   "metadata": {},
   "outputs": [
    {
     "name": "stdout",
     "output_type": "stream",
     "text": [
      "sandhya\n",
      " laptop\n"
     ]
    }
   ],
   "source": [
    "print(\"sandhya\\n laptop\")#print the word in new line"
   ]
  },
  {
   "cell_type": "code",
   "execution_count": 12,
   "id": "8b95f688",
   "metadata": {},
   "outputs": [
    {
     "name": "stdout",
     "output_type": "stream",
     "text": [
      "laptop\n"
     ]
    }
   ],
   "source": [
    "print(\"sandhya\\rlaptop\")#for carriage return"
   ]
  },
  {
   "cell_type": "markdown",
   "id": "60038426",
   "metadata": {},
   "source": [
    "# 2. What do the escape characters n and t stand for?"
   ]
  },
  {
   "cell_type": "raw",
   "id": "d4afbf45",
   "metadata": {},
   "source": [
    "# \"\\t\" is used for tab space\n",
    "\"\\n\" is used for new line"
   ]
  },
  {
   "cell_type": "code",
   "execution_count": 14,
   "id": "7621244d",
   "metadata": {},
   "outputs": [
    {
     "name": "stdout",
     "output_type": "stream",
     "text": [
      "sandhya \tlaptop\n"
     ]
    }
   ],
   "source": [
    "print(\"sandhya \\tlaptop\") #gives tab space"
   ]
  },
  {
   "cell_type": "code",
   "execution_count": 16,
   "id": "328446d6",
   "metadata": {},
   "outputs": [
    {
     "name": "stdout",
     "output_type": "stream",
     "text": [
      "sandhya\n",
      "laptop\n"
     ]
    }
   ],
   "source": [
    "print(\"sandhya\\nlaptop\")#print the word in new line"
   ]
  },
  {
   "cell_type": "markdown",
   "id": "6f7b8ba7",
   "metadata": {},
   "source": [
    "# 3. What is the way to include backslash characters in a string?"
   ]
  },
  {
   "cell_type": "raw",
   "id": "3fee092a",
   "metadata": {},
   "source": [
    "If you want to include the blackslash character in a string,we need to use 2 black slashes."
   ]
  },
  {
   "cell_type": "code",
   "execution_count": 18,
   "id": "c2e935df",
   "metadata": {},
   "outputs": [
    {
     "name": "stdout",
     "output_type": "stream",
     "text": [
      "sandhya \\laptop\n"
     ]
    }
   ],
   "source": [
    "#example for black slash include\n",
    "print(\"sandhya \\\\laptop\")"
   ]
  },
  {
   "cell_type": "markdown",
   "id": "eb077019",
   "metadata": {},
   "source": [
    "# 4. The string &quot;Howl&#39;s Moving Castle&quot; is a correct value. Why isn&#39;t the single quote character in the word Howl&#39;s not escaped a problem?"
   ]
  },
  {
   "cell_type": "raw",
   "id": "098ef390",
   "metadata": {},
   "source": [
    "the single quote in Howl's is fine because you've used double quotes to mark the beginning and end of the string"
   ]
  },
  {
   "cell_type": "markdown",
   "id": "3710d173",
   "metadata": {},
   "source": [
    "# 5. How do you write a string of newlines if you don&#39;t want to use the n character?"
   ]
  },
  {
   "cell_type": "raw",
   "id": "4d8ddb68",
   "metadata": {},
   "source": [
    "multiline strings allow you to use newlines in strings without \\n escape character.\n",
    "and also use the print statement 2 times without using n character"
   ]
  },
  {
   "cell_type": "code",
   "execution_count": 22,
   "id": "877e9598",
   "metadata": {},
   "outputs": [
    {
     "name": "stdout",
     "output_type": "stream",
     "text": [
      "hello\n",
      "world\n"
     ]
    }
   ],
   "source": [
    "#example\n",
    "print(\"hello\")\n",
    "print(\"world\")"
   ]
  },
  {
   "cell_type": "markdown",
   "id": "ff83f706",
   "metadata": {},
   "source": [
    "# 6. What are the values of the given expressions?\n",
    "&#39;Hello, world!&#39;[1]\n",
    "\n",
    "&#39;Hello, world!&#39;[0:5]\n",
    "\n",
    "&#39;Hello, world!&#39;[:5]\n",
    "\n",
    "&#39;Hello, world!&#39;[3:]"
   ]
  },
  {
   "cell_type": "code",
   "execution_count": 23,
   "id": "c9fbc962",
   "metadata": {},
   "outputs": [
    {
     "data": {
      "text/plain": [
       "'e'"
      ]
     },
     "execution_count": 23,
     "metadata": {},
     "output_type": "execute_result"
    }
   ],
   "source": [
    "'Hello, world!'[1] #in python indexing starts from 0. so index of 1 is e"
   ]
  },
  {
   "cell_type": "code",
   "execution_count": 25,
   "id": "70c1dd57",
   "metadata": {},
   "outputs": [
    {
     "data": {
      "text/plain": [
       "'Hello'"
      ]
     },
     "execution_count": 25,
     "metadata": {},
     "output_type": "execute_result"
    }
   ],
   "source": [
    "'Hello, world!'[0:5] #in python indexing starts from 0. so [0:5] gives index values between 0 and 5. excludes index 5 character  "
   ]
  },
  {
   "cell_type": "code",
   "execution_count": 26,
   "id": "cb48f963",
   "metadata": {},
   "outputs": [
    {
     "data": {
      "text/plain": [
       "'Hello'"
      ]
     },
     "execution_count": 26,
     "metadata": {},
     "output_type": "execute_result"
    }
   ],
   "source": [
    "'Hello, world!'[:5]#not mention starting index value, it will take the starting index value. so prints the values between 0 and 5. excludes 5 "
   ]
  },
  {
   "cell_type": "code",
   "execution_count": 28,
   "id": "16b69c8c",
   "metadata": {},
   "outputs": [
    {
     "data": {
      "text/plain": [
       "'lo, world!'"
      ]
     },
     "execution_count": 28,
     "metadata": {},
     "output_type": "execute_result"
    }
   ],
   "source": [
    "'Hello, world!'[3:]#not given the ending index value.automatically it will take endin index value"
   ]
  },
  {
   "cell_type": "markdown",
   "id": "e878e616",
   "metadata": {},
   "source": [
    "# 7. What are the values of the following expressions?\n",
    "\n",
    "&#39;Hello&#39;.upper()\n",
    "\n",
    "&#39;Hello&#39;.upper().isupper()\n",
    "\n",
    "&#39;Hello&#39;.upper().lower()"
   ]
  },
  {
   "cell_type": "code",
   "execution_count": 30,
   "id": "49221466",
   "metadata": {},
   "outputs": [
    {
     "data": {
      "text/plain": [
       "'HELLO'"
      ]
     },
     "execution_count": 30,
     "metadata": {},
     "output_type": "execute_result"
    }
   ],
   "source": [
    "'Hello'.upper()#it converts all string(hello) into upper case letters"
   ]
  },
  {
   "cell_type": "code",
   "execution_count": 32,
   "id": "c92ffd7b",
   "metadata": {},
   "outputs": [
    {
     "data": {
      "text/plain": [
       "True"
      ]
     },
     "execution_count": 32,
     "metadata": {},
     "output_type": "execute_result"
    }
   ],
   "source": [
    "'Hello'.upper().isupper()#it converts all string(hello) into upper case letters. and then check the condition. all letters are in upper or not. if letters are in upper means we get True as output"
   ]
  },
  {
   "cell_type": "code",
   "execution_count": 34,
   "id": "5119e2fb",
   "metadata": {},
   "outputs": [
    {
     "data": {
      "text/plain": [
       "'hello'"
      ]
     },
     "execution_count": 34,
     "metadata": {},
     "output_type": "execute_result"
    }
   ],
   "source": [
    "'Hello'.upper().lower()#it first converts string(\"Hello\") into uppercase, then converted into lowercase, because of lower() method"
   ]
  },
  {
   "cell_type": "markdown",
   "id": "6b8d1314",
   "metadata": {},
   "source": [
    "# 8. What are the values of the following expressions?\n",
    "\n",
    "&#39;Remember, remember, the fifth of July.&#39;.split()\n",
    "\n",
    "&#39;-&#39;.join(&#39;There can only one.&#39;.split())"
   ]
  },
  {
   "cell_type": "code",
   "execution_count": 35,
   "id": "7d83bc76",
   "metadata": {},
   "outputs": [
    {
     "data": {
      "text/plain": [
       "['Remember,', 'remember,', 'the', 'fifth', 'of', 'July.']"
      ]
     },
     "execution_count": 35,
     "metadata": {},
     "output_type": "execute_result"
    }
   ],
   "source": [
    "'Remember, remember, the fifth of July.'.split()#it split the each word at (comma or space)  and keep all values in list"
   ]
  },
  {
   "cell_type": "code",
   "execution_count": 41,
   "id": "a13ddc63",
   "metadata": {},
   "outputs": [
    {
     "data": {
      "text/plain": [
       "'There-can-only-one'"
      ]
     },
     "execution_count": 41,
     "metadata": {},
     "output_type": "execute_result"
    }
   ],
   "source": [
    "'-'.join('There can only one'.split())#it joins the spliting words with -"
   ]
  },
  {
   "cell_type": "markdown",
   "id": "5c2b894f",
   "metadata": {},
   "source": [
    "# 9. What are the methods for right-justifying, left-justifying, and centering a string?"
   ]
  },
  {
   "cell_type": "raw",
   "id": "f71b116b",
   "metadata": {},
   "source": [
    "right-justifying a string by using rjust()\n",
    "left-justifying a string by using ljust()\n",
    "centering a string by using center() method\n"
   ]
  },
  {
   "cell_type": "markdown",
   "id": "42260ffc",
   "metadata": {},
   "source": [
    "# 10. What is the best way to remove whitespace characters from the start or end?"
   ]
  },
  {
   "cell_type": "raw",
   "id": "8e2a08c1",
   "metadata": {},
   "source": [
    "lstrip() and rstrip() are methods to remove white space characters from the start or end"
   ]
  },
  {
   "cell_type": "code",
   "execution_count": null,
   "id": "398b2450",
   "metadata": {},
   "outputs": [],
   "source": []
  },
  {
   "cell_type": "code",
   "execution_count": null,
   "id": "5165f1c4",
   "metadata": {},
   "outputs": [],
   "source": []
  }
 ],
 "metadata": {
  "kernelspec": {
   "display_name": "Python 3 (ipykernel)",
   "language": "python",
   "name": "python3"
  },
  "language_info": {
   "codemirror_mode": {
    "name": "ipython",
    "version": 3
   },
   "file_extension": ".py",
   "mimetype": "text/x-python",
   "name": "python",
   "nbconvert_exporter": "python",
   "pygments_lexer": "ipython3",
   "version": "3.10.4"
  }
 },
 "nbformat": 4,
 "nbformat_minor": 5
}
