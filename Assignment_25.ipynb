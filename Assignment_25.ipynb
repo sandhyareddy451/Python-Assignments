{
 "cells": [
  {
   "cell_type": "markdown",
   "id": "aaacfdfa",
   "metadata": {},
   "source": [
    "## 1) . What is the difference between enclosing a list comprehension in square brackets and parentheses?\n",
    "\n",
    "\n",
    "\n",
    "\n"
   ]
  },
  {
   "cell_type": "raw",
   "id": "5614bb94",
   "metadata": {},
   "source": [
    "### Square brackets are used represent for lists. while parentheses are used to represe for tuples.\n",
    "\n",
    "example:\n",
    "\n",
    "list=[1,2,3,5,7,8]-----> lists are mutable, we can add elements remove elements,if you want\n",
    "\n",
    "tuple=(1,2,34,5,6,7,8)---->tuple are immutable, we can add elements remove elements,if you want"
   ]
  },
  {
   "cell_type": "markdown",
   "id": "ca2982d5",
   "metadata": {},
   "source": [
    "## 2) What is the relationship between generators and iterators?"
   ]
  },
  {
   "cell_type": "raw",
   "id": "98e20c9d",
   "metadata": {},
   "source": [
    "1. Iterators are the objects that use the next() method to get the next value of the sequence.\n",
    "2. A generator is a function that produces or yields a sequence of values using a yield statement.\n",
    "3. Classes are used to Implement the iterators. \n",
    "4. Functions are used to implement the generator."
   ]
  },
  {
   "cell_type": "markdown",
   "id": "fdbaba9c",
   "metadata": {},
   "source": [
    "## 3) What are the signs that a function is a generator function?"
   ]
  },
  {
   "cell_type": "raw",
   "id": "08249e9b",
   "metadata": {},
   "source": [
    "1. If a function contains at least one yield statement, it becomes a generator function.\n",
    "Both yield and return will return some value from a function."
   ]
  },
  {
   "cell_type": "markdown",
   "id": "187805b8",
   "metadata": {},
   "source": [
    "## 4) What is the purpose of a yield statement?"
   ]
  },
  {
   "cell_type": "raw",
   "id": "e71b7e1c",
   "metadata": {},
   "source": [
    "The yield statement returns a generator object to the one who calls the function which contains yield,\n",
    "instead of simply returning a value.\n",
    "2. yield is a keyword that is used like return, except the function will return a generator.\n",
    "3. The yield keyword in Python controls the flow of a generator function. This is similar to a return statement used for returning values in Python"
   ]
  },
  {
   "cell_type": "markdown",
   "id": "43e324f8",
   "metadata": {},
   "source": [
    "## 5) What is the relationship between map calls and list comprehensions? Make a comparison and contrast between the two."
   ]
  },
  {
   "cell_type": "code",
   "execution_count": null,
   "id": "55892368",
   "metadata": {},
   "outputs": [],
   "source": [
    "1. List comprehension returns a list, whereas the map function returns an object of Iterable.\n",
    "2. List comprehension execution is faster than that of map function when the formula expression is huge and complex.\n",
    "3. Map function is faster than list comprehension when the formula is already defined as a function earlier."
   ]
  },
  {
   "cell_type": "code",
   "execution_count": null,
   "id": "5c506f8f",
   "metadata": {},
   "outputs": [],
   "source": []
  },
  {
   "cell_type": "code",
   "execution_count": null,
   "id": "fefbde72",
   "metadata": {},
   "outputs": [],
   "source": []
  },
  {
   "cell_type": "code",
   "execution_count": null,
   "id": "b715c7fa",
   "metadata": {},
   "outputs": [],
   "source": []
  },
  {
   "cell_type": "code",
   "execution_count": null,
   "id": "a1e855fe",
   "metadata": {},
   "outputs": [],
   "source": []
  },
  {
   "cell_type": "code",
   "execution_count": null,
   "id": "917e93f9",
   "metadata": {},
   "outputs": [],
   "source": []
  },
  {
   "cell_type": "code",
   "execution_count": null,
   "id": "4e7ff3c3",
   "metadata": {},
   "outputs": [],
   "source": []
  },
  {
   "cell_type": "code",
   "execution_count": null,
   "id": "c9c618a6",
   "metadata": {},
   "outputs": [],
   "source": []
  },
  {
   "cell_type": "code",
   "execution_count": null,
   "id": "c1d5719f",
   "metadata": {},
   "outputs": [],
   "source": []
  },
  {
   "cell_type": "code",
   "execution_count": null,
   "id": "a391303e",
   "metadata": {},
   "outputs": [],
   "source": []
  },
  {
   "cell_type": "code",
   "execution_count": null,
   "id": "faf7c533",
   "metadata": {},
   "outputs": [],
   "source": []
  },
  {
   "cell_type": "code",
   "execution_count": null,
   "id": "64d010f7",
   "metadata": {},
   "outputs": [],
   "source": []
  },
  {
   "cell_type": "code",
   "execution_count": null,
   "id": "6f0ed104",
   "metadata": {},
   "outputs": [],
   "source": []
  },
  {
   "cell_type": "code",
   "execution_count": null,
   "id": "2d1d4998",
   "metadata": {},
   "outputs": [],
   "source": []
  },
  {
   "cell_type": "code",
   "execution_count": null,
   "id": "3d639482",
   "metadata": {},
   "outputs": [],
   "source": []
  },
  {
   "cell_type": "code",
   "execution_count": null,
   "id": "3297d453",
   "metadata": {},
   "outputs": [],
   "source": []
  },
  {
   "cell_type": "code",
   "execution_count": null,
   "id": "869af3fc",
   "metadata": {},
   "outputs": [],
   "source": []
  },
  {
   "cell_type": "code",
   "execution_count": null,
   "id": "06225545",
   "metadata": {},
   "outputs": [],
   "source": []
  },
  {
   "cell_type": "code",
   "execution_count": null,
   "id": "9077a8f8",
   "metadata": {},
   "outputs": [],
   "source": []
  },
  {
   "cell_type": "code",
   "execution_count": null,
   "id": "7679b08c",
   "metadata": {},
   "outputs": [],
   "source": []
  },
  {
   "cell_type": "code",
   "execution_count": null,
   "id": "c78c47c4",
   "metadata": {},
   "outputs": [],
   "source": []
  }
 ],
 "metadata": {
  "kernelspec": {
   "display_name": "Python 3 (ipykernel)",
   "language": "python",
   "name": "python3"
  },
  "language_info": {
   "codemirror_mode": {
    "name": "ipython",
    "version": 3
   },
   "file_extension": ".py",
   "mimetype": "text/x-python",
   "name": "python",
   "nbconvert_exporter": "python",
   "pygments_lexer": "ipython3",
   "version": "3.9.12"
  }
 },
 "nbformat": 4,
 "nbformat_minor": 5
}
