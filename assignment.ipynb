{
 "cells": [
  {
   "cell_type": "markdown",
   "id": "beb24e9c",
   "metadata": {},
   "source": [
    "# 1. What does an empty dictionary's code look like?"
   ]
  },
  {
   "cell_type": "markdown",
   "id": "540106f4",
   "metadata": {},
   "source": [
    "### dictionary: dictionary is defined by using set of curly braces. with in this braces, we are assigning key along with the value.\n",
    "empty dictionary means there is no items in dictionary. \n",
    "\n",
    "ex: dictionary name can be considerd as dict, empty dictionary look like as below\n",
    "\n",
    "dict={}\n",
    "\n"
   ]
  },
  {
   "cell_type": "markdown",
   "id": "05a81b75",
   "metadata": {},
   "source": [
    "# 2. What is the value of a dictionary value with the key 'foo' and the value 42?"
   ]
  },
  {
   "cell_type": "markdown",
   "id": "0f7c3193",
   "metadata": {},
   "source": [
    "### dictionary : dictionary is defined by using set of curly braces. with in this braces, we are assigning key along with the value.\n",
    "\n",
    "here key is given as 'foo' and value is 42.\n",
    "ex: dictionary name can be considerd as dict.dictionary look like as below\n",
    "\n",
    "dict={'foo':42}"
   ]
  },
  {
   "cell_type": "code",
   "execution_count": 5,
   "id": "cedf5ae8",
   "metadata": {},
   "outputs": [
    {
     "data": {
      "text/plain": [
       "dict_items([('foo', 42)])"
      ]
     },
     "execution_count": 5,
     "metadata": {},
     "output_type": "execute_result"
    }
   ],
   "source": [
    "dict={'foo':42}\n",
    "dict.items()"
   ]
  },
  {
   "cell_type": "code",
   "execution_count": 3,
   "id": "8feedf7e",
   "metadata": {},
   "outputs": [
    {
     "data": {
      "text/plain": [
       "42"
      ]
     },
     "execution_count": 3,
     "metadata": {},
     "output_type": "execute_result"
    }
   ],
   "source": [
    "dict['foo']"
   ]
  },
  {
   "cell_type": "markdown",
   "id": "153c6761",
   "metadata": {},
   "source": [
    "# 3. What is the most significant distinction between a dictionary and a list?"
   ]
  },
  {
   "cell_type": "markdown",
   "id": "ebd5f666",
   "metadata": {},
   "source": [
    "\n",
    "\n"
   ]
  },
  {
   "cell_type": "markdown",
   "id": "d405f2de",
   "metadata": {},
   "source": [
    "### dictionary: \n",
    "\n",
    "1. dictionary doesn't follows ordering, because of that it doesn't have indexing.\n",
    "2. dictionary allows only unique values, doesn't allows the duplicates.\n",
    "3. items in dictionary are like key and value pair enclosed in curly braces.\n"
   ]
  },
  {
   "cell_type": "markdown",
   "id": "f2023756",
   "metadata": {},
   "source": []
  },
  {
   "cell_type": "markdown",
   "id": "71e97e53",
   "metadata": {},
   "source": [
    "## lists:\n",
    "\n",
    "\n",
    "1. lists follows ordering, because of that it have indexing.\n",
    "2. lists allows duplicate values of any data type.\n",
    "3. list contains elements are all datatypes either int, str, float, boolean. enclosed with square braces.\n"
   ]
  },
  {
   "cell_type": "markdown",
   "id": "0d695d1b",
   "metadata": {},
   "source": [
    "# 4. What happens if you try to access spam['foo'] if spam is {'bar': 100}?\n",
    "\n",
    "\n",
    "It gives keyError. because there is no key 'foo' in dictionary spam."
   ]
  },
  {
   "cell_type": "raw",
   "id": "724c80e4",
   "metadata": {},
   "source": []
  },
  {
   "cell_type": "code",
   "execution_count": 7,
   "id": "c2185c75",
   "metadata": {},
   "outputs": [
    {
     "ename": "KeyError",
     "evalue": "'foo'",
     "output_type": "error",
     "traceback": [
      "\u001b[1;31m---------------------------------------------------------------------------\u001b[0m",
      "\u001b[1;31mKeyError\u001b[0m                                  Traceback (most recent call last)",
      "Input \u001b[1;32mIn [7]\u001b[0m, in \u001b[0;36m<cell line: 2>\u001b[1;34m()\u001b[0m\n\u001b[0;32m      1\u001b[0m spam\u001b[38;5;241m=\u001b[39m{\u001b[38;5;124m'\u001b[39m\u001b[38;5;124mbar\u001b[39m\u001b[38;5;124m'\u001b[39m: \u001b[38;5;241m100\u001b[39m}\n\u001b[1;32m----> 2\u001b[0m \u001b[43mspam\u001b[49m\u001b[43m[\u001b[49m\u001b[38;5;124;43m'\u001b[39;49m\u001b[38;5;124;43mfoo\u001b[39;49m\u001b[38;5;124;43m'\u001b[39;49m\u001b[43m]\u001b[49m\n",
      "\u001b[1;31mKeyError\u001b[0m: 'foo'"
     ]
    }
   ],
   "source": [
    "spam={'bar': 100}\n",
    "spam['foo']"
   ]
  },
  {
   "cell_type": "markdown",
   "id": "e78228dd",
   "metadata": {},
   "source": [
    "## 5. If a dictionary is stored in spam, what is the difference between the expressions 'cat' in spam and 'cat' in spam.keys()?\n",
    "\n",
    "\n",
    "for example consider spam dictionary contains key value pair of 'cat'.\n",
    "\n",
    "spam={'cat': 1234}\n",
    "\n",
    "here 'cat' -------> is key\n",
    "      1234--------> corresponding key value\n",
    "      \n",
    "there is no difference  in expression 'cat' in spam and spam.keys(). both are representing same value\n"
   ]
  },
  {
   "cell_type": "raw",
   "id": "1a850ac5",
   "metadata": {},
   "source": []
  },
  {
   "cell_type": "code",
   "execution_count": 9,
   "id": "0c8eb3c1",
   "metadata": {},
   "outputs": [
    {
     "data": {
      "text/plain": [
       "dict_keys(['cat'])"
      ]
     },
     "execution_count": 9,
     "metadata": {},
     "output_type": "execute_result"
    }
   ],
   "source": [
    "spam={'cat': 1234}\n",
    "spam.keys()\n"
   ]
  },
  {
   "cell_type": "markdown",
   "id": "28e6de2a",
   "metadata": {},
   "source": [
    "# 6. If a dictionary is stored in spam, what is the difference between the expressions 'cat' in spam and 'cat' in spam.values()?\n",
    "\n",
    "for example consider spam dictionary contains key value pair of 'cat'.\n",
    "\n",
    "spam={'cat': 1234}"
   ]
  },
  {
   "cell_type": "raw",
   "id": "74f68478",
   "metadata": {},
   "source": [
    "\n"
   ]
  },
  {
   "cell_type": "markdown",
   "id": "9f0ddc15",
   "metadata": {},
   "source": [
    "### 'cat' in spam :\n",
    "\n",
    "it fetches the key value 'cat', whether it is present in dictionary or not"
   ]
  },
  {
   "cell_type": "markdown",
   "id": "e47cb8d3",
   "metadata": {},
   "source": [
    "### 'cat' in spam.values():\n",
    "\n",
    "if 'cat' keys is present in dictionary spam, spam.values() gives the last or updated 'cat' key value is given.\n",
    "\n",
    "spam={'cat': 1234, 'cat':'sandhya'}\n",
    "\n",
    "here 'cat' -------> is key\n",
    "1234--------> corresponding key value"
   ]
  },
  {
   "cell_type": "raw",
   "id": "1a2d440d",
   "metadata": {},
   "source": []
  },
  {
   "cell_type": "code",
   "execution_count": 3,
   "id": "f79e39e9",
   "metadata": {},
   "outputs": [
    {
     "data": {
      "text/plain": [
       "'sandhya'"
      ]
     },
     "execution_count": 3,
     "metadata": {},
     "output_type": "execute_result"
    }
   ],
   "source": [
    "spam={'cat': 1234, 'cat':'sandhya'}\n",
    "spam.values()"
   ]
  },
  {
   "cell_type": "markdown",
   "id": "62add527",
   "metadata": {},
   "source": [
    "# 7. What is a shortcut for the following code?\n",
    "\n",
    "\n",
    "if 'color' not in spam:\n",
    "spam['color'] = 'black'\n",
    "    \n",
    "short cut for the above code:\n",
    "\n",
    "spam.setdefault('color','black')"
   ]
  },
  {
   "cell_type": "raw",
   "id": "3531b481",
   "metadata": {},
   "source": []
  },
  {
   "cell_type": "markdown",
   "id": "0993574b",
   "metadata": {},
   "source": [
    "# 8. How do you \"pretty print\" dictionary values using which module and function?\n",
    "\n",
    "\n",
    "The pprint module provides a capability to “pretty-print” arbitrary Python data structures in a form which can be used as input to the interpreter.\n",
    "\n",
    "pprint.pprint()"
   ]
  },
  {
   "cell_type": "raw",
   "id": "af7b3a7a",
   "metadata": {},
   "source": []
  },
  {
   "cell_type": "raw",
   "id": "855af6ab",
   "metadata": {},
   "source": []
  },
  {
   "cell_type": "code",
   "execution_count": null,
   "id": "e7b4354a",
   "metadata": {},
   "outputs": [],
   "source": []
  },
  {
   "cell_type": "code",
   "execution_count": null,
   "id": "1fa94be6",
   "metadata": {},
   "outputs": [],
   "source": []
  }
 ],
 "metadata": {
  "kernelspec": {
   "display_name": "Python 3 (ipykernel)",
   "language": "python",
   "name": "python3"
  },
  "language_info": {
   "codemirror_mode": {
    "name": "ipython",
    "version": 3
   },
   "file_extension": ".py",
   "mimetype": "text/x-python",
   "name": "python",
   "nbconvert_exporter": "python",
   "pygments_lexer": "ipython3",
   "version": "3.9.12"
  }
 },
 "nbformat": 4,
 "nbformat_minor": 5
}
