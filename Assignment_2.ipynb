{
  "nbformat": 4,
  "nbformat_minor": 0,
  "metadata": {
    "colab": {
      "provenance": [],
      "collapsed_sections": []
    },
    "kernelspec": {
      "name": "python3",
      "display_name": "Python 3"
    },
    "language_info": {
      "name": "python"
    }
  },
  "cells": [
    {
      "cell_type": "markdown",
      "source": [
        "# **1. What are the two values of the Boolean data type? How do you write them?**\n",
        "\n",
        "\n",
        "*  two values of the Boolean data type are True and False\n",
        "* boolean data types of both are start with capital letters**(T for True and  F for False)** and remaining letters are lowercase letters\n",
        "\n",
        "\n",
        "\n",
        "\n"
      ],
      "metadata": {
        "id": "wvtZvxn28_Bm"
      }
    },
    {
      "cell_type": "markdown",
      "source": [
        "# **2. What are the three different types of Boolean operators?**\n",
        "\n",
        "not , and , and  or  are the only built-in Python Boolean operators."
      ],
      "metadata": {
        "id": "HU2vKukB-b8E"
      }
    },
    {
      "cell_type": "markdown",
      "source": [
        "## **3. Make a list of each Boolean operator's truth tables (i.e. every possible combination of Boolean values for the operator and what it evaluate ).**\n",
        "\n",
        "Boolean operator's are and, or and not\n",
        "\n",
        "> \n",
        " **and truth table**\n",
        "\n",
        "True and True is True\n",
        "\n",
        "True and False is False\n",
        "\n",
        "False and True is False\n",
        "\n",
        "False and False is False\n",
        "\n",
        "\n",
        " **Or truth table**\n",
        "\n",
        "True and True is True\n",
        "\n",
        "True and False is True\n",
        "\n",
        "False and True is True\n",
        "\n",
        "False and False is False\n",
        "\n",
        "\n",
        "**not truth table**\n",
        "\n",
        "not True is False\n",
        "\n",
        "not False is True"
      ],
      "metadata": {
        "id": "KNcP06Sg_DAr"
      }
    },
    {
      "cell_type": "markdown",
      "source": [
        "# 4. **What are the values of the following expressions**?\n",
        "(5>4) and (3 == 5)\n",
        "\n",
        "not (5 > 4)\n",
        "\n",
        "(5 > 4) or (3 == 5)\n",
        "\n",
        "not ((5 > 4) or (3 == 5))\n",
        "\n",
        "(True and True) and (True == False)\n",
        "\n",
        "(not False) or (not True)"
      ],
      "metadata": {
        "id": "riIhS3QRA6xc"
      }
    },
    {
      "cell_type": "code",
      "source": [
        "(5>4) and (3 == 5) # (5>4 is True) and (3==5 is False),  True and False, gives False output(from and truth table)\n"
      ],
      "metadata": {
        "colab": {
          "base_uri": "https://localhost:8080/"
        },
        "id": "SjG1enqUBL6Z",
        "outputId": "26093928-c117-4ebc-a8c7-d411d904b4c3"
      },
      "execution_count": 2,
      "outputs": [
        {
          "output_type": "execute_result",
          "data": {
            "text/plain": [
              "False"
            ]
          },
          "metadata": {},
          "execution_count": 2
        }
      ]
    },
    {
      "cell_type": "code",
      "source": [
        "not (5 > 4) # not(5>4 is True), but not(True) gives False output) (from not truth table)"
      ],
      "metadata": {
        "colab": {
          "base_uri": "https://localhost:8080/"
        },
        "id": "A213gmNbBYlk",
        "outputId": "0d1322a2-5be1-49e8-ff60-323b52a2fdd2"
      },
      "execution_count": 3,
      "outputs": [
        {
          "output_type": "execute_result",
          "data": {
            "text/plain": [
              "False"
            ]
          },
          "metadata": {},
          "execution_count": 3
        }
      ]
    },
    {
      "cell_type": "code",
      "source": [
        "not ((5 > 4) or (3 == 5)) # not(5>4 is True) or (3==5 is False),  not(True or False), gives True output(from or truth table)"
      ],
      "metadata": {
        "colab": {
          "base_uri": "https://localhost:8080/"
        },
        "id": "GdAwqVwRBajb",
        "outputId": "c072e868-4bbe-4744-ef9e-0b1b4487e2d2"
      },
      "execution_count": 4,
      "outputs": [
        {
          "output_type": "execute_result",
          "data": {
            "text/plain": [
              "False"
            ]
          },
          "metadata": {},
          "execution_count": 4
        }
      ]
    },
    {
      "cell_type": "code",
      "source": [
        "(True and True) and (True == False)#(True and True)-----True output(from and truth table) and (True==False), gives False output, so finally (True and False gives False output)from or truth table)"
      ],
      "metadata": {
        "colab": {
          "base_uri": "https://localhost:8080/"
        },
        "id": "WHsLbtOHBcUL",
        "outputId": "0f0e6338-e618-4728-f360-37460c477d3e"
      },
      "execution_count": 5,
      "outputs": [
        {
          "output_type": "execute_result",
          "data": {
            "text/plain": [
              "False"
            ]
          },
          "metadata": {},
          "execution_count": 5
        }
      ]
    },
    {
      "cell_type": "code",
      "source": [
        "(not False) or (not True)#(not False is True) or (not True is False), True or False is True(from or truth table)"
      ],
      "metadata": {
        "colab": {
          "base_uri": "https://localhost:8080/"
        },
        "id": "9tKkm98cBfCS",
        "outputId": "a148460d-7d44-46ce-f6c8-175e4ae15d48"
      },
      "execution_count": 6,
      "outputs": [
        {
          "output_type": "execute_result",
          "data": {
            "text/plain": [
              "True"
            ]
          },
          "metadata": {},
          "execution_count": 6
        }
      ]
    },
    {
      "cell_type": "markdown",
      "source": [
        "# **5. What are the six comparison operators?**\n",
        "\n",
        "== (Equal to operator)\n",
        "\n",
        "!=(not equal to operator)\n",
        "\n",
        "(>) --greaterthan operator\n",
        "\n",
        "(<) --lessthan operator\n",
        "\n",
        "(<=) --lessthan are equal\n",
        "\n",
        "(>=) --greaterthan are equal\n",
        "\n"
      ],
      "metadata": {
        "id": "Y9iYIeVYDnEV"
      }
    },
    {
      "cell_type": "markdown",
      "source": [
        "# **6. How do you tell the difference between the equal to and assignment operators?Describe a condition and when you would use one.**\n",
        "\n",
        "**Equal to operator(==) :** Equal to operator is used to compare two values and evaluates a boolean output.\n",
        "\n",
        "**>eg : 5==5**\n",
        "\n",
        "\n",
        "**Assignment Operator** : Assignment Operator is used to store a value in a variable\n",
        "\n",
        "**eg : a=5**\n",
        "\n",
        "\n",
        "\n",
        "**condition :** condition is an Expression used in a Flow Control Statements that evaluates to a Boolean Value\n"
      ],
      "metadata": {
        "id": "6esvFMFAFNWe"
      }
    },
    {
      "cell_type": "markdown",
      "source": [
        "# **7. Identify the three blocks in this code:**\n",
        "\n",
        "spam = 0\n",
        "\n",
        "if spam == 10:\n",
        "\n",
        "print('eggs')\n",
        "\n",
        "if spam > 5:\n",
        "\n",
        "print('bacon')\n",
        "\n",
        "else:\n",
        "\n",
        "print('ham')\n",
        "\n",
        "print('spam')\n",
        "\n",
        "print('spam')\n",
        "\n",
        "\n",
        "\n",
        "**Answer :**\n",
        "\n",
        "\n",
        "*   Three blocks are nothing but Inside of If Statements, the lines are\n",
        "*   print('eggs'), print('bacon'),print('bacon')\n",
        "\n",
        "\n",
        "\n",
        "print('eggs')\n",
        "\n",
        "if spam > 5:\n",
        "\n",
        "print('bacon')\n",
        "\n",
        "else:\n",
        "\n",
        "print('ham')\n",
        "\n"
      ],
      "metadata": {
        "id": "W4YHyGEpGOZu"
      }
    },
    {
      "cell_type": "markdown",
      "source": [],
      "metadata": {
        "id": "XBEC8yPfJLBN"
      }
    },
    {
      "cell_type": "markdown",
      "source": [
        "# **8. Write code that prints Hello if 1 is stored in spam, prints Howdy if** **2 is stored in spam, and prints Greetings**! **if anything else is stored in spam**.\n",
        "\n",
        "if spam == 1:\n",
        "\n",
        "    print('Hello')\n",
        "\n",
        "elif spam == 2:\n",
        "\n",
        "    print('Howdy')\n",
        "\n",
        "else:\n",
        "\n",
        "    print('Greetings!')"
      ],
      "metadata": {
        "id": "n3b3UnJLHxG4"
      }
    },
    {
      "cell_type": "markdown",
      "source": [
        "# **9.If your programme is stuck in an endless loop, what keys you’ll press?**\n",
        "\n",
        "Press **ctrl-C** to stop a program stuck in an infinite loop."
      ],
      "metadata": {
        "id": "oIwoZjDEJdeF"
      }
    },
    {
      "cell_type": "markdown",
      "source": [
        "# **10. How can you tell the difference between break and continue?**\n",
        "\n",
        "\n",
        "**break**: The break statement can be used if you need to break out of a for or while loop and move onto the next section of code\n",
        "\n",
        "**continue** : continue used to skip parts of the current loop or break out of the loop completely."
      ],
      "metadata": {
        "id": "MQIK5Nm0JkhF"
      }
    },
    {
      "cell_type": "markdown",
      "source": [
        "# **11. In a for loop, what is the difference between range(10), range(0, 10), and range(0, 10, 1)?**\n",
        "\n",
        "\n",
        "They all do the same thing.\n",
        "\n",
        "**The range(10)**--call ranges from 0 up to (but not including) 10.\n",
        "\n",
        "**range(0,10)**--tells the loop to start at 0  and end at 9(10 is excluded).\n",
        "\n",
        "and **range (0,10,1)**--tells the loop to increase the variable by 1 on each iteration."
      ],
      "metadata": {
        "id": "haliCRwLKFc0"
      }
    },
    {
      "cell_type": "markdown",
      "source": [
        "# **12. Write a short program that prints the numbers 1 to 10 using a for loop. Then write an equivalent program that prints the numbers 1 to 10 using a while loop.**\n"
      ],
      "metadata": {
        "id": "JXi5Q8psKs89"
      }
    },
    {
      "cell_type": "code",
      "source": [
        "print(\"For loop\")\n",
        "for i in range (1,11):\n",
        "\n",
        "  print(i)"
      ],
      "metadata": {
        "colab": {
          "base_uri": "https://localhost:8080/"
        },
        "id": "DLdmyFulK7uP",
        "outputId": "9da37f80-da43-4f83-a33d-acc8050307bd"
      },
      "execution_count": 15,
      "outputs": [
        {
          "output_type": "stream",
          "name": "stdout",
          "text": [
            "For loop\n",
            "1\n",
            "2\n",
            "3\n",
            "4\n",
            "5\n",
            "6\n",
            "7\n",
            "8\n",
            "9\n",
            "10\n"
          ]
        }
      ]
    },
    {
      "cell_type": "code",
      "source": [
        "print(\"While loop\")\n",
        "\n",
        "i = 1\n",
        "\n",
        "while i <= 10:\n",
        "  print(i)\n",
        "  i = i + 1"
      ],
      "metadata": {
        "colab": {
          "base_uri": "https://localhost:8080/"
        },
        "id": "1SMi34AsLCTD",
        "outputId": "00bd1ae0-fd7d-4f16-81f0-bfd359438ca2"
      },
      "execution_count": 18,
      "outputs": [
        {
          "output_type": "stream",
          "name": "stdout",
          "text": [
            "While loop\n",
            "1\n",
            "2\n",
            "3\n",
            "4\n",
            "5\n",
            "6\n",
            "7\n",
            "8\n",
            "9\n",
            "10\n"
          ]
        }
      ]
    },
    {
      "cell_type": "markdown",
      "source": [
        "# **13. If you had a function named bacon() inside a module named spam, how would you call it after importing spam**?\n",
        "\n",
        "**Ans :** This function can be called with spam.bacon()."
      ],
      "metadata": {
        "id": "K-xAMRc5LgM2"
      }
    }
  ]
}