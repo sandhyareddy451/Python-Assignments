{
  "nbformat": 4,
  "nbformat_minor": 0,
  "metadata": {
    "colab": {
      "provenance": [],
      "collapsed_sections": []
    },
    "kernelspec": {
      "name": "python3",
      "display_name": "Python 3"
    },
    "language_info": {
      "name": "python"
    }
  },
  "cells": [
    {
      "cell_type": "markdown",
      "source": [
        "**2.** **What will be the output of the following code snippet?**\n",
        "**arr = [1, 2, 3, 4, 5, 6]**\n",
        "**for i in range(1, 6):**\n",
        "    arr[i - 1] = arr[i]\n",
        "**for i in range(0, 6)**: \n",
        "    **print(arr[i], end = \" \")**\n",
        "\n",
        "\n",
        "---\n",
        "\n"
      ],
      "metadata": {
        "id": "vTecXpB81_p2"
      }
    },
    {
      "cell_type": "code",
      "source": [
        "arr = [1, 2, 3, 4, 5, 6]\n",
        "for i in range(1, 6):\n",
        "    arr[i - 1] = arr[i]\n",
        "for i in range(0, 6): \n",
        "    print(arr[i], end = \" \")\n"
      ],
      "metadata": {
        "colab": {
          "base_uri": "https://localhost:8080/"
        },
        "id": "p6maCJ0b191_",
        "outputId": "5086985a-59e6-4be2-ac1d-e6608cb17377"
      },
      "execution_count": 7,
      "outputs": [
        {
          "output_type": "stream",
          "name": "stdout",
          "text": [
            "2 3 4 5 6 6 "
          ]
        }
      ]
    },
    {
      "cell_type": "markdown",
      "source": [
        "**3. Write a Python program to find the repeated items of a tuple.?**"
      ],
      "metadata": {
        "id": "_kQZ-Cz75KeF"
      }
    },
    {
      "cell_type": "code",
      "source": [
        "#create a tuple\n",
        "tuple = (2, 4, 5, 6, 2, 3, 4, 4, 7)\n",
        "print(tuple)\n",
        "count = tuple.count(4)#count the number of times it appears in the tuple.\n",
        "print(\"repeted items of a tuple: {tuple} \", count)"
      ],
      "metadata": {
        "colab": {
          "base_uri": "https://localhost:8080/"
        },
        "id": "AZ3lTI7f5UQP",
        "outputId": "30090a8c-52b4-41e4-9473-fc40da86e8cb"
      },
      "execution_count": 19,
      "outputs": [
        {
          "output_type": "stream",
          "name": "stdout",
          "text": [
            "(2, 4, 5, 6, 2, 3, 4, 4, 7)\n",
            "repeted items of a tuple: {tuple}  3\n"
          ]
        }
      ]
    },
    {
      "cell_type": "code",
      "source": [
        "tup=(1,3,4,32,1,1,1)  \n",
        "for i in tup:\n",
        "    if tup.count(i) > 1:\n",
        "        print(f\"REPEATED, {i}\")"
      ],
      "metadata": {
        "colab": {
          "base_uri": "https://localhost:8080/"
        },
        "id": "IC0UlATt5ysD",
        "outputId": "0a9b997e-82e6-40b3-cca1-294b023ef1ea"
      },
      "execution_count": 16,
      "outputs": [
        {
          "output_type": "stream",
          "name": "stdout",
          "text": [
            "REPEATED, 1\n",
            "REPEATED, 1\n",
            "REPEATED, 1\n",
            "REPEATED, 1\n"
          ]
        }
      ]
    },
    {
      "cell_type": "markdown",
      "source": [
        "**4. Replace last value of tuples in a list with 500. Try using list comprehension?**\n",
        "\n",
        "Example -: \n",
        "\n",
        "Input -:\n",
        "\n",
        "[(10, 20, 40), (40, 50, 60), (70, 80, 90)]\n",
        "\n",
        "Output -:\n",
        "[(10, 20, 500), (40, 50, 500), (70, 80, 500)]"
      ],
      "metadata": {
        "id": "4HS0MUGU7UQc"
      }
    },
    {
      "cell_type": "code",
      "source": [
        "l=[(10, 20, 40), (40, 50, 60), (70, 80, 90)]\n",
        "print(\"output:\",[t[:-1] + (500,) for t in l])"
      ],
      "metadata": {
        "colab": {
          "base_uri": "https://localhost:8080/"
        },
        "id": "Ui0jkm-M7xoD",
        "outputId": "d3504673-78dd-4891-848b-3fc160eba764"
      },
      "execution_count": 50,
      "outputs": [
        {
          "output_type": "stream",
          "name": "stdout",
          "text": [
            "output: [(10, 20, 500), (40, 50, 500), (70, 80, 500)]\n"
          ]
        }
      ]
    },
    {
      "cell_type": "code",
      "source": [],
      "metadata": {
        "id": "eeoiDomQ9Et-"
      },
      "execution_count": 34,
      "outputs": []
    }
  ]
}