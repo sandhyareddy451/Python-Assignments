{
  "nbformat": 4,
  "nbformat_minor": 0,
  "metadata": {
    "colab": {
      "provenance": []
    },
    "kernelspec": {
      "name": "python3",
      "display_name": "Python 3"
    },
    "language_info": {
      "name": "python"
    }
  },
  "cells": [
    {
      "cell_type": "markdown",
      "source": [
        "#1. What exactly is []?\n",
        "\n",
        "**Empty list values. There is no elements or Items in a list**"
      ],
      "metadata": {
        "id": "nGasijX7c5NI"
      }
    },
    {
      "cell_type": "markdown",
      "source": [
        "#2. In a list of values stored in a variable called spam, how would you assign the value \"hello\" as the third value? \n",
        "(Assume [2, 4, 6, 8, 10] are in spam.)"
      ],
      "metadata": {
        "id": "t9HVtDXtdXy2"
      }
    },
    {
      "cell_type": "code",
      "source": [
        "spam=[2, 4, 6, 8, 10] \n",
        "spam[2]=\"hello\" # In python indexing starts from 0,if you want \"hello\" as 3rd element, we can use index 2, to add \"hello\" as 3rd element\n",
        "print(spam)"
      ],
      "metadata": {
        "colab": {
          "base_uri": "https://localhost:8080/"
        },
        "id": "Zx81mng0c8cm",
        "outputId": "355d72c1-6fbe-4aa9-8d31-c4b13d4ebe2a"
      },
      "execution_count": null,
      "outputs": [
        {
          "output_type": "stream",
          "name": "stdout",
          "text": [
            "[2, 4, 'hello', 8, 10]\n"
          ]
        }
      ]
    },
    {
      "cell_type": "markdown",
      "source": [
        "#Let&#39;s pretend the spam includes the list [&#39;a&#39;, &#39;b&#39;, &#39;c&#39;, &#39;d&#39;] for the next three queries."
      ],
      "metadata": {
        "id": "x12pxPmEeaou"
      }
    },
    {
      "cell_type": "markdown",
      "source": [
        "# 3. What is the value of spam[int(int(&#39;3&#39; * 2) / 11)]?"
      ],
      "metadata": {
        "id": "xuu251_Neh9t"
      }
    },
    {
      "cell_type": "code",
      "source": [
        "# spam[int(int('3' * 2) / 11)]\n",
        "\n",
        "spam=['a','b','c','d']\n",
        "\n",
        "spam[int(int('3' * 2) / 11)] # int('3'*2)--->'33'---->int('33')----->33/11----->3----->int(3)--->'d'"
      ],
      "metadata": {
        "colab": {
          "base_uri": "https://localhost:8080/",
          "height": 35
        },
        "id": "GtBOZ062eZz1",
        "outputId": "8557a991-ec35-4414-d37e-267a91bddb00"
      },
      "execution_count": null,
      "outputs": [
        {
          "output_type": "execute_result",
          "data": {
            "text/plain": [
              "'d'"
            ],
            "application/vnd.google.colaboratory.intrinsic+json": {
              "type": "string"
            }
          },
          "metadata": {},
          "execution_count": 5
        }
      ]
    },
    {
      "cell_type": "markdown",
      "source": [
        "#4. What is the value of spam[-1]?"
      ],
      "metadata": {
        "id": "dHpIFLQrfpBG"
      }
    },
    {
      "cell_type": "code",
      "source": [
        "spam=['a','b','c','d']\n",
        "spam[-1] #for negatitive values indexing starts from end so ['a','b','c','d'] last element in list is 'd'                                                             "
      ],
      "metadata": {
        "colab": {
          "base_uri": "https://localhost:8080/",
          "height": 35
        },
        "id": "IPjOXGQ_e5XS",
        "outputId": "de5e7c36-d8ca-4549-d577-1592527ec716"
      },
      "execution_count": null,
      "outputs": [
        {
          "output_type": "execute_result",
          "data": {
            "text/plain": [
              "'d'"
            ],
            "application/vnd.google.colaboratory.intrinsic+json": {
              "type": "string"
            }
          },
          "metadata": {},
          "execution_count": 6
        }
      ]
    },
    {
      "cell_type": "markdown",
      "source": [
        "#5. What is the value of spam[:2]?"
      ],
      "metadata": {
        "id": "it9fThLEgRkv"
      }
    },
    {
      "cell_type": "code",
      "source": [
        "spam=['a','b','c','d']\n",
        "spam[:2] #it prints values from starting index to 1 index, excludes the 2 index values.so values of index 0 and 1 it prints"
      ],
      "metadata": {
        "colab": {
          "base_uri": "https://localhost:8080/"
        },
        "id": "HzC-Oc4fftf2",
        "outputId": "7fe9f18b-612d-4225-bc71-6793306918f3"
      },
      "execution_count": null,
      "outputs": [
        {
          "output_type": "execute_result",
          "data": {
            "text/plain": [
              "['a', 'b']"
            ]
          },
          "metadata": {},
          "execution_count": 1
        }
      ]
    },
    {
      "cell_type": "markdown",
      "source": [
        "# Let&#39;s pretend bacon has the list [3.14, &#39;cat,&#39; 11, &#39;cat,&#39; True] for the next three questions.\n",
        "\n",
        "#6. What is the value of bacon.index(&#39;cat&#39;)?"
      ],
      "metadata": {
        "id": "BuQJbO6ShUtP"
      }
    },
    {
      "cell_type": "code",
      "source": [
        "bacon = [3.14, 'cat', 11, 'cat', True]\n",
        "bacon.index('cat') # it gives first cat indexing values"
      ],
      "metadata": {
        "colab": {
          "base_uri": "https://localhost:8080/"
        },
        "id": "nPuTqrQBgWOB",
        "outputId": "769265ca-1062-451c-bd61-d25d2f70a90e"
      },
      "execution_count": null,
      "outputs": [
        {
          "output_type": "execute_result",
          "data": {
            "text/plain": [
              "1"
            ]
          },
          "metadata": {},
          "execution_count": 7
        }
      ]
    },
    {
      "cell_type": "markdown",
      "source": [
        "#7. How does bacon.append(99) change the look of the list value in bacon?"
      ],
      "metadata": {
        "id": "aCvlAdJqj_NW"
      }
    },
    {
      "cell_type": "code",
      "source": [
        "bacon = [3.14, 'cat', 11, 'cat', True]\n",
        "bacon.append(99) # it adds the element at end value in list\n",
        "bacon\n"
      ],
      "metadata": {
        "id": "S3WHXKe9iBhL",
        "colab": {
          "base_uri": "https://localhost:8080/"
        },
        "outputId": "2422b722-b2fd-45ba-9c5d-f9792f7b8612"
      },
      "execution_count": 16,
      "outputs": [
        {
          "output_type": "execute_result",
          "data": {
            "text/plain": [
              "[3.14, 'cat', 11, 'cat', True, 99]"
            ]
          },
          "metadata": {},
          "execution_count": 16
        }
      ]
    },
    {
      "cell_type": "markdown",
      "source": [
        "#8. How does bacon.remove(&#39;cat&#39;) change the look of the list in bacon?"
      ],
      "metadata": {
        "id": "5JxXXOkCkOaf"
      }
    },
    {
      "cell_type": "code",
      "source": [
        "bacon = [3.14, 'cat', 11, 'cat', True]\n",
        "bacon.remove('cat') # if duplicate values found in list, it removes the first value in list\n",
        "bacon"
      ],
      "metadata": {
        "id": "wF5Ay2_7kJjx",
        "colab": {
          "base_uri": "https://localhost:8080/"
        },
        "outputId": "bb828f3f-497b-4f3e-e75f-bd02cdad4314"
      },
      "execution_count": 18,
      "outputs": [
        {
          "output_type": "execute_result",
          "data": {
            "text/plain": [
              "[3.14, 11, 'cat', True]"
            ]
          },
          "metadata": {},
          "execution_count": 18
        }
      ]
    },
    {
      "cell_type": "markdown",
      "source": [
        "#9. What are the list concatenation and list replication operators?\n",
        "\n",
        "list concatenation operator is +\n",
        "\n",
        "list replication operator is *"
      ],
      "metadata": {
        "id": "EqKcQ4WumQ1X"
      }
    },
    {
      "cell_type": "markdown",
      "source": [
        "#10. What is difference between the list methods append() and insert()?\n",
        "\n",
        "\n",
        "\n",
        "**append():** append() method add the element at the end of list.\n"
      ],
      "metadata": {
        "id": "I40rIA6GmnZ2"
      }
    },
    {
      "cell_type": "code",
      "source": [
        "#example for append\n",
        "\n",
        "x = [3.14, 'cat', 11, True]\n",
        "x.append(99) # it adds the element at end value in list\n",
        "x"
      ],
      "metadata": {
        "colab": {
          "base_uri": "https://localhost:8080/"
        },
        "id": "g79ft3MYmqXf",
        "outputId": "b08c322d-4d9a-4b5a-f4af-dd91f53bc3cf"
      },
      "execution_count": 4,
      "outputs": [
        {
          "output_type": "execute_result",
          "data": {
            "text/plain": [
              "[3.14, 'cat', 11, True, 99]"
            ]
          },
          "metadata": {},
          "execution_count": 4
        }
      ]
    },
    {
      "cell_type": "markdown",
      "source": [
        "**insert():** insert() method add the element in anyware of list, based on our requirement we can add element stating, ending and middle of list by using index number\n",
        "\n"
      ],
      "metadata": {
        "id": "KzAYf-jF_oHk"
      }
    },
    {
      "cell_type": "code",
      "source": [
        "#example for insert method(adding value 18 at 2nd index position in list)\n",
        "x = [3.14, 'cat', 11, True]\n",
        "x.insert(2,18) # adding value 18 at 2nd index position in list\n",
        "x"
      ],
      "metadata": {
        "colab": {
          "base_uri": "https://localhost:8080/"
        },
        "id": "3pqubyCsAKxS",
        "outputId": "9c570d32-1069-47ec-98cd-044adbd83f77"
      },
      "execution_count": 5,
      "outputs": [
        {
          "output_type": "execute_result",
          "data": {
            "text/plain": [
              "[3.14, 'cat', 18, 11, True]"
            ]
          },
          "metadata": {},
          "execution_count": 5
        }
      ]
    },
    {
      "cell_type": "markdown",
      "source": [
        "#11. What are the two methods for removing items from a list?"
      ],
      "metadata": {
        "id": "DUcsKHTLA1z0"
      }
    },
    {
      "cell_type": "markdown",
      "source": [
        "two methods for removing items from a list is\n",
        "\n",
        "*   By using **del method** we can remove multiple values from list\n",
        "*   by using **remove()** method also we can remove values from list\n",
        "\n"
      ],
      "metadata": {
        "id": "Jr-4fALtA9DL"
      }
    },
    {
      "cell_type": "code",
      "source": [
        "#example for remove() method\n",
        "x = [10, 25, 3.14, 'cat', 11, True]\n",
        "x.remove(3.14) #by using remove method we can remove element in list directly without using index number\n",
        "x\n"
      ],
      "metadata": {
        "colab": {
          "base_uri": "https://localhost:8080/"
        },
        "id": "zPkmt3VQA7Tj",
        "outputId": "b4100a95-5bd5-4822-c497-02618f14cbbd"
      },
      "execution_count": 7,
      "outputs": [
        {
          "output_type": "execute_result",
          "data": {
            "text/plain": [
              "[10, 25, 'cat', 11, True]"
            ]
          },
          "metadata": {},
          "execution_count": 7
        }
      ]
    },
    {
      "cell_type": "code",
      "source": [
        "#example for del method\n",
        "x = [10, 25, 3.14, 'cat', 11, True]\n",
        "del x[0:2] # it delete the values between 0 and 2, excludes 2nd index number\n",
        "x\n"
      ],
      "metadata": {
        "colab": {
          "base_uri": "https://localhost:8080/"
        },
        "id": "clAT647uAj-B",
        "outputId": "8c5de69d-b872-4fa7-937f-87903a69b146"
      },
      "execution_count": 25,
      "outputs": [
        {
          "output_type": "execute_result",
          "data": {
            "text/plain": [
              "[3.14, 'cat', 11, True]"
            ]
          },
          "metadata": {},
          "execution_count": 25
        }
      ]
    },
    {
      "cell_type": "markdown",
      "source": [
        "#12. Describe how list values and string values are identical."
      ],
      "metadata": {
        "id": "CrYM32r9EJ0G"
      }
    },
    {
      "cell_type": "markdown",
      "source": [
        "\n",
        "*   ***both lists and strings have lengths***\n",
        "\n",
        "*   ***string length is the number of characters in a list***\n",
        "*   ***list length is the number of elements or items in a list***\n",
        "*   ***Each character in a string has index as well as each element in list have position***.\n",
        "\n",
        "based on the characterstics list values and string values are identical\n",
        "\n",
        "\n",
        "\n"
      ],
      "metadata": {
        "id": "2LQX-TTYEV00"
      }
    },
    {
      "cell_type": "markdown",
      "source": [
        "#13. What&#39;s the difference between tuples and lists?\n",
        "\n",
        "\n",
        "**Lists**:\n",
        "\n",
        "\n",
        "1.   Lists are mutable, we can add, remove, elements based on our requirement\n",
        "\n",
        "\n",
        "**tuple**:\n",
        "\n",
        "*   tuple are immutable, we can't add, remove elements in tuple once you created.\n",
        "\n",
        "\n",
        "\n"
      ],
      "metadata": {
        "id": "Z3HAH8lOF1KU"
      }
    },
    {
      "cell_type": "markdown",
      "source": [
        "#14. How do you type a tuple value that only contains the integer 42?"
      ],
      "metadata": {
        "id": "9JOQVRKQIPfb"
      }
    },
    {
      "cell_type": "code",
      "source": [
        "tup=(42,)"
      ],
      "metadata": {
        "id": "IQaTO4xkHSy2"
      },
      "execution_count": 26,
      "outputs": []
    },
    {
      "cell_type": "markdown",
      "source": [
        "#15. How do you get a list value&#39;s tuple form? How do you get a tuple value&#39;s list form?"
      ],
      "metadata": {
        "id": "UXXp6sRHJYpT"
      }
    },
    {
      "cell_type": "code",
      "source": [
        "# list values in tuple form\n",
        "\n",
        "list=[1,2,3,4,5,6]\n",
        "t=tuple(list)\n",
        "t"
      ],
      "metadata": {
        "colab": {
          "base_uri": "https://localhost:8080/"
        },
        "id": "6CU-cwMrJBZO",
        "outputId": "753c33d1-b94a-4a6a-dc31-6da1f5f4f969"
      },
      "execution_count": 32,
      "outputs": [
        {
          "output_type": "execute_result",
          "data": {
            "text/plain": [
              "(1, 2, 3, 4, 5, 6)"
            ]
          },
          "metadata": {},
          "execution_count": 32
        }
      ]
    },
    {
      "cell_type": "code",
      "source": [
        "#tuple values in list form\n",
        "\n",
        "tuple=(7,8,9,10,11)\n",
        "l1=[]\n",
        "for i in tuple:\n",
        "  l1.append(i)\n",
        "print(l1)\n",
        "\n"
      ],
      "metadata": {
        "colab": {
          "base_uri": "https://localhost:8080/"
        },
        "id": "LfvppCDWJhyj",
        "outputId": "c3d74611-c928-4094-8ea9-38af9dfc94b6"
      },
      "execution_count": 44,
      "outputs": [
        {
          "output_type": "stream",
          "name": "stdout",
          "text": [
            "[7, 8, 9, 10, 11]\n"
          ]
        }
      ]
    },
    {
      "cell_type": "markdown",
      "source": [
        "#16. Variables that &quot;contain&quot; list values are not necessarily lists themselves. Instead, what do they contain?\n",
        "\n",
        "They contain references to list values."
      ],
      "metadata": {
        "id": "gL89SD8vLnsY"
      }
    },
    {
      "cell_type": "markdown",
      "source": [
        "#17. How do you distinguish between copy.copy() and copy.deepcopy()?\n",
        "\n",
        "\n",
        "The copy.copy() function will do a shallow copy of a list.\n",
        "while the copy.deepcopy() function will do a deep copy of a list.\n",
        "That is, only copy.deepcopy() will duplicate any lists inside the list"
      ],
      "metadata": {
        "id": "T6y9negXMiwr"
      }
    },
    {
      "cell_type": "code",
      "source": [],
      "metadata": {
        "id": "Fn8OkZ1gKm0y"
      },
      "execution_count": 45,
      "outputs": []
    },
    {
      "cell_type": "code",
      "source": [],
      "metadata": {
        "id": "0tg5mMo6MhmX"
      },
      "execution_count": null,
      "outputs": []
    }
  ]
}